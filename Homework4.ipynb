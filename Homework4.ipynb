{
 "cells": [
  {
   "cell_type": "code",
   "execution_count": 1,
   "id": "danish-experiment",
   "metadata": {},
   "outputs": [],
   "source": [
    "%load_ext autoreload\n",
    "%autoreload 2"
   ]
  },
  {
   "cell_type": "code",
   "execution_count": 369,
   "id": "excessive-turner",
   "metadata": {},
   "outputs": [],
   "source": [
    "from bagsolver.bag import Bag\n",
    "from bagsolver.base import BagBase\n",
    "from bagsolver.genetic import GeneticBagSolver\n",
    "\n",
    "from bagsolver.utils import load_bag_data, parse_solution"
   ]
  },
  {
   "cell_type": "code",
   "execution_count": 370,
   "id": "cloudy-exploration",
   "metadata": {},
   "outputs": [],
   "source": [
    "import numpy as np\n",
    "import pandas as pd\n",
    "import seaborn as sns\n",
    "import matplotlib.pyplot as plt\n",
    "%matplotlib inline"
   ]
  },
  {
   "cell_type": "code",
   "execution_count": 400,
   "id": "adverse-syndication",
   "metadata": {},
   "outputs": [],
   "source": [
    "data = load_bag_data(\"data/NK/NK40_inst.dat\", \"data/NK/NK40_sol.dat\")"
   ]
  },
  {
   "cell_type": "code",
   "execution_count": 431,
   "id": "typical-album",
   "metadata": {},
   "outputs": [],
   "source": [
    "defi, target = data[4]"
   ]
  },
  {
   "cell_type": "code",
   "execution_count": 432,
   "id": "iraqi-primary",
   "metadata": {},
   "outputs": [],
   "source": [
    "target = int(target.split(\" \")[2])"
   ]
  },
  {
   "cell_type": "code",
   "execution_count": 439,
   "id": "sought-double",
   "metadata": {},
   "outputs": [
    {
     "name": "stderr",
     "output_type": "stream",
     "text": [
      "  0%|          | 0/1000 [00:00<?, ?it/s]\n"
     ]
    },
    {
     "ename": "ValueError",
     "evalue": "low >= high",
     "output_type": "error",
     "traceback": [
      "\u001B[0;31m---------------------------------------------------------------------------\u001B[0m",
      "\u001B[0;31mValueError\u001B[0m                                Traceback (most recent call last)",
      "\u001B[0;32m<ipython-input-439-8b65a52b1cbb>\u001B[0m in \u001B[0;36m<module>\u001B[0;34m\u001B[0m\n\u001B[1;32m     12\u001B[0m     \u001B[0mrecords\u001B[0m\u001B[0;34m.\u001B[0m\u001B[0mappend\u001B[0m\u001B[0;34m(\u001B[0m\u001B[0;34m(\u001B[0m\u001B[0;34m*\u001B[0m\u001B[0mbatch_stats\u001B[0m\u001B[0;34m,\u001B[0m \u001B[0mbag\u001B[0m\u001B[0;34m.\u001B[0m\u001B[0mbest_score\u001B[0m\u001B[0;34m)\u001B[0m\u001B[0;34m)\u001B[0m\u001B[0;34m\u001B[0m\u001B[0;34m\u001B[0m\u001B[0m\n\u001B[1;32m     13\u001B[0m     \u001B[0;31m# print((*batch_stats, bag.best_score))\u001B[0m\u001B[0;34m\u001B[0m\u001B[0;34m\u001B[0m\u001B[0;34m\u001B[0m\u001B[0m\n\u001B[0;32m---> 14\u001B[0;31m     \u001B[0mpool\u001B[0m \u001B[0;34m=\u001B[0m \u001B[0mbag\u001B[0m\u001B[0;34m.\u001B[0m\u001B[0mgenetic_iteration\u001B[0m\u001B[0;34m(\u001B[0m\u001B[0mpool\u001B[0m\u001B[0;34m)\u001B[0m\u001B[0;34m\u001B[0m\u001B[0;34m\u001B[0m\u001B[0m\n\u001B[0m\u001B[1;32m     15\u001B[0m \u001B[0;34m\u001B[0m\u001B[0m\n\u001B[1;32m     16\u001B[0m \u001B[0;34m\u001B[0m\u001B[0m\n",
      "\u001B[0;32m~/fit-ni-kop/bagsolver/genetic.py\u001B[0m in \u001B[0;36mgenetic_iteration\u001B[0;34m(self, parents)\u001B[0m\n\u001B[1;32m     98\u001B[0m                 \u001B[0mchildren\u001B[0m \u001B[0;34m=\u001B[0m \u001B[0;34m[\u001B[0m\u001B[0;34m]\u001B[0m\u001B[0;34m\u001B[0m\u001B[0;34m\u001B[0m\u001B[0m\n\u001B[1;32m     99\u001B[0m                 \u001B[0;32mwhile\u001B[0m \u001B[0mlen\u001B[0m\u001B[0;34m(\u001B[0m\u001B[0mchildren\u001B[0m\u001B[0;34m)\u001B[0m \u001B[0;34m<\u001B[0m \u001B[0mlen\u001B[0m\u001B[0;34m(\u001B[0m\u001B[0mparents\u001B[0m\u001B[0;34m)\u001B[0m\u001B[0;34m:\u001B[0m\u001B[0;34m\u001B[0m\u001B[0;34m\u001B[0m\u001B[0m\n\u001B[0;32m--> 100\u001B[0;31m                         \u001B[0mp_idx1\u001B[0m \u001B[0;34m=\u001B[0m \u001B[0mnp\u001B[0m\u001B[0;34m.\u001B[0m\u001B[0msearchsorted\u001B[0m\u001B[0;34m(\u001B[0m\u001B[0mcumm_fitness\u001B[0m\u001B[0;34m,\u001B[0m \u001B[0mnp\u001B[0m\u001B[0;34m.\u001B[0m\u001B[0mrandom\u001B[0m\u001B[0;34m.\u001B[0m\u001B[0mrandint\u001B[0m\u001B[0;34m(\u001B[0m\u001B[0mtotal_fitness\u001B[0m\u001B[0;34m)\u001B[0m\u001B[0;34m)\u001B[0m\u001B[0;34m\u001B[0m\u001B[0;34m\u001B[0m\u001B[0m\n\u001B[0m\u001B[1;32m    101\u001B[0m                         \u001B[0mp_idx2\u001B[0m \u001B[0;34m=\u001B[0m \u001B[0mnp\u001B[0m\u001B[0;34m.\u001B[0m\u001B[0msearchsorted\u001B[0m\u001B[0;34m(\u001B[0m\u001B[0mcumm_fitness\u001B[0m\u001B[0;34m,\u001B[0m \u001B[0mnp\u001B[0m\u001B[0;34m.\u001B[0m\u001B[0mrandom\u001B[0m\u001B[0;34m.\u001B[0m\u001B[0mrandint\u001B[0m\u001B[0;34m(\u001B[0m\u001B[0mtotal_fitness\u001B[0m\u001B[0;34m)\u001B[0m\u001B[0;34m)\u001B[0m\u001B[0;34m\u001B[0m\u001B[0;34m\u001B[0m\u001B[0m\n\u001B[1;32m    102\u001B[0m                         \u001B[0;31m# NOTE: Parents can be same, but it's unlikely\u001B[0m\u001B[0;34m\u001B[0m\u001B[0;34m\u001B[0m\u001B[0;34m\u001B[0m\u001B[0m\n",
      "\u001B[0;32mmtrand.pyx\u001B[0m in \u001B[0;36mnumpy.random.mtrand.RandomState.randint\u001B[0;34m()\u001B[0m\n",
      "\u001B[0;32m_bounded_integers.pyx\u001B[0m in \u001B[0;36mnumpy.random._bounded_integers._rand_int64\u001B[0;34m()\u001B[0m\n",
      "\u001B[0;31mValueError\u001B[0m: low >= high"
     ]
    }
   ],
   "source": [
    "from tqdm import tqdm\n",
    "\n",
    "from bagsolver.genetic import GeneticBagSolver\n",
    "\n",
    "records = []\n",
    "\n",
    "bag = GeneticBagSolver.from_line(defi, batch_size=30, mutation_rate=0.04)\n",
    "pool = bag.new_pool_random()\n",
    "\n",
    "for i in tqdm(range(1000)):\n",
    "    batch_stats = bag.pool_fitness(pool)\n",
    "    records.append((*batch_stats, bag.best_score))\n",
    "    # print((*batch_stats, bag.best_score))\n",
    "    pool = bag.genetic_iteration(pool)\n",
    "    \n",
    "    \n",
    "print(target, bag.best_score)\n",
    "\n",
    "df = pd.DataFrame(records, columns = [\"pmin\", \"pmax\", \"pmean\", \"totmax\"])\n",
    "\n",
    "fig, ax = plt.subplots()\n",
    "ax.hlines(y=target, xmin=0, xmax=len(df), colors='r', linestyles='--', lw=2)\n",
    "df.plot(ax=ax)\n",
    "plt.show()"
   ]
  },
  {
   "cell_type": "code",
   "execution_count": null,
   "id": "finished-composite",
   "metadata": {},
   "outputs": [],
   "source": []
  }
 ],
 "metadata": {
  "kernelspec": {
   "display_name": "Python 3 (ipykernel)",
   "language": "python",
   "name": "python3"
  },
  "language_info": {
   "codemirror_mode": {
    "name": "ipython",
    "version": 3
   },
   "file_extension": ".py",
   "mimetype": "text/x-python",
   "name": "python",
   "nbconvert_exporter": "python",
   "pygments_lexer": "ipython3",
   "version": "3.8.2"
  }
 },
 "nbformat": 4,
 "nbformat_minor": 5
}