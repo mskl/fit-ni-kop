{
 "cells": [
  {
   "cell_type": "code",
   "execution_count": 1,
   "id": "danish-experiment",
   "metadata": {},
   "outputs": [],
   "source": [
    "%load_ext autoreload\n",
    "%autoreload 2"
   ]
  },
  {
   "cell_type": "code",
   "execution_count": 2,
   "id": "excessive-turner",
   "metadata": {},
   "outputs": [],
   "source": [
    "from bagsolver.bag import Bag\n",
    "from bagsolver.utils import load_bag_data, parse_solution\n",
    "from concurrent.futures import ThreadPoolExecutor, ProcessPoolExecutor, as_completed"
   ]
  },
  {
   "cell_type": "code",
   "execution_count": 3,
   "id": "unlimited-cause",
   "metadata": {},
   "outputs": [],
   "source": [
    "import numpy as np\n",
    "import pandas as pd\n",
    "import seaborn as sns\n",
    "import matplotlib.pyplot as plt\n",
    "%matplotlib inline"
   ]
  },
  {
   "cell_type": "code",
   "execution_count": 98,
   "id": "quality-machine",
   "metadata": {},
   "outputs": [],
   "source": [
    "import subprocess\n",
    "\n",
    "def gen_instances(I, N, n=24, W=3000, C=3000, w=\"bal\", m=0.8, c=\"uni\") -> tuple:\n",
    "    args = f\"-I {I} -N {N} -n {n} -W {W} -C {C} -w {w} -m {m} -c {c}\"\n",
    "    full = f\"./data/GEN/kg2 {args}\"\n",
    "    popen = subprocess.Popen(full.split(\" \"), stdout=subprocess.PIPE, stderr=subprocess.PIPE)\n",
    "    output, errors = popen.communicate()\n",
    "    return args, output.decode().strip()"
   ]
  },
  {
   "cell_type": "code",
   "execution_count": 130,
   "id": "expected-brazilian",
   "metadata": {},
   "outputs": [],
   "source": [
    "args, instances = gen_instances(1, 10)"
   ]
  },
  {
   "cell_type": "code",
   "execution_count": 176,
   "id": "cleared-sheriff",
   "metadata": {},
   "outputs": [],
   "source": [
    "import random\n",
    "\n",
    "def permute_instance(instance):\n",
    "    iid, count, capacity, *items = instance.split(\" \")\n",
    "    pairs = list(zip(items[::2], items[1::2]))\n",
    "    random.shuffle(pairs)\n",
    "    return \" \".join([iid, count, capacity] + list(sum(pairs, ())))"
   ]
  },
  {
   "cell_type": "raw",
   "id": "physical-spine",
   "metadata": {},
   "source": [
    "instance = instances.split(\"\\n\")[0]\n",
    "permute_instance(instance)"
   ]
  },
  {
   "cell_type": "code",
   "execution_count": 192,
   "id": "polyphonic-meditation",
   "metadata": {},
   "outputs": [],
   "source": [
    "# Bound methods of the Bag class\n",
    "algorithms = [\"solve_bruteforce\", \"solve_branch_bound\", \"solve_greedy\", \"solve_dynamic_cost\"]"
   ]
  },
  {
   "cell_type": "markdown",
   "id": "collect-bookmark",
   "metadata": {},
   "source": [
    "### Generate robust"
   ]
  },
  {
   "cell_type": "code",
   "execution_count": 249,
   "id": "perfect-ferry",
   "metadata": {},
   "outputs": [],
   "source": [
    "iid = 1  # starting instance id\n",
    "N = 500  # number of generated items\n",
    "n = 20   # instance size\n",
    "\n",
    "records = []\n",
    "\n",
    "# weight distribution - default bal\n",
    "args, result = gen_instances(iid, N, n=n)\n",
    "for inst in result.split(\"\\n\"):\n",
    "    for alg in algorithms:\n",
    "        for i in range(10):\n",
    "            perminst = permute_instance(inst)\n",
    "            records.append([perminst, alg, args])\n",
    "\n",
    "tasks = pd.DataFrame(records, columns=[\"instance\", \"method\", \"args\"])\n",
    "tasks.to_csv(\"hw3_tasks_robust.csv\", index=False)"
   ]
  },
  {
   "cell_type": "code",
   "execution_count": 215,
   "id": "dynamic-joshua",
   "metadata": {},
   "outputs": [],
   "source": [
    "df = pd.read_csv(\"hw3_output_robust.csv\")"
   ]
  },
  {
   "cell_type": "code",
   "execution_count": 217,
   "id": "rapid-holocaust",
   "metadata": {},
   "outputs": [],
   "source": [
    "df[\"id\"] = df.instance.apply(lambda x: x.split(\" \")[0])"
   ]
  },
  {
   "cell_type": "code",
   "execution_count": 226,
   "id": "affecting-rates",
   "metadata": {},
   "outputs": [],
   "source": [
    "var = df.groupby(by=[\"method\", \"id\"]).elapsed.agg([\"var\"])"
   ]
  },
  {
   "cell_type": "code",
   "execution_count": 237,
   "id": "behind-heather",
   "metadata": {},
   "outputs": [],
   "source": [
    "mean_var = var.reset_index().groupby(\"method\")[\"var\"].mean()"
   ]
  },
  {
   "cell_type": "code",
   "execution_count": 247,
   "id": "formal-suggestion",
   "metadata": {},
   "outputs": [],
   "source": [
    "pd.options.display.float_format = '{:.8f}'.format"
   ]
  },
  {
   "cell_type": "code",
   "execution_count": 248,
   "id": "alternative-ridge",
   "metadata": {},
   "outputs": [
    {
     "name": "stdout",
     "output_type": "stream",
     "text": [
      "\\begin{tabular}{lr}\n",
      "\\toprule\n",
      "{} &        var \\\\\n",
      "method             &            \\\\\n",
      "\\midrule\n",
      "solve\\_branch\\_bound & 0.00016046 \\\\\n",
      "solve\\_bruteforce   & 0.00017201 \\\\\n",
      "solve\\_dynamic\\_cost & 0.06896283 \\\\\n",
      "solve\\_greedy       & 0.00000004 \\\\\n",
      "\\bottomrule\n",
      "\\end{tabular}\n",
      "\n"
     ]
    }
   ],
   "source": [
    "print(mean_var.to_latex())"
   ]
  },
  {
   "cell_type": "markdown",
   "id": "fewer-commissioner",
   "metadata": {},
   "source": [
    "### Generate pilot"
   ]
  },
  {
   "cell_type": "code",
   "execution_count": 250,
   "id": "further-multimedia",
   "metadata": {},
   "outputs": [],
   "source": [
    "iid = 1  # starting instance id\n",
    "N = 10   # number of generated items\n",
    "n = 20   # instance size\n",
    "\n",
    "records = []\n",
    "\n",
    "# weight distribution - default bal\n",
    "for w in [\"bal\", \"light\", \"heavy\"]:\n",
    "    # the ratio of max knapsack capacity to total weight\n",
    "    for m in np.linspace(0, 2, 5):\n",
    "        # cost distribution/style - default uni\n",
    "        for c in [\"uni\", \"corr\", \"strong\"]:\n",
    "            args, result = gen_instances(iid, N, n=n, w=w, m=m, c=c)\n",
    "            for inst in result.split(\"\\n\"):\n",
    "                for alg in algorithms:\n",
    "                    records.append([inst, alg, args])\n",
    "            iid += N\n",
    "\n",
    "tasks = pd.DataFrame(records, columns=[\"instance\", \"method\", \"args\"])\n",
    "tasks.to_csv(\"hw3_tasks_pilot.csv\", index=False)"
   ]
  },
  {
   "cell_type": "markdown",
   "id": "numeric-russian",
   "metadata": {},
   "source": [
    "### Prepare data for pilot"
   ]
  },
  {
   "cell_type": "code",
   "execution_count": 17,
   "id": "funky-position",
   "metadata": {},
   "outputs": [],
   "source": [
    "def args2dict(args) -> dict:\n",
    "    return {tup.split(\" \")[0]: tup.split(\" \")[1] for tup in args.strip(\"-\").split(\"-\")}"
   ]
  },
  {
   "cell_type": "code",
   "execution_count": 115,
   "id": "documented-lyric",
   "metadata": {},
   "outputs": [],
   "source": [
    "df = pd.read_csv(\"hw3_output_pilot.csv\")\n",
    "df.args = df.args.apply(args2dict)\n",
    "df = df.join(pd.json_normalize(df.args)).drop(columns=[\"args\"])"
   ]
  },
  {
   "cell_type": "code",
   "execution_count": 116,
   "id": "outside-particular",
   "metadata": {},
   "outputs": [],
   "source": [
    "df.m = df.m.astype(float)"
   ]
  },
  {
   "cell_type": "code",
   "execution_count": 117,
   "id": "special-teens",
   "metadata": {},
   "outputs": [],
   "source": [
    "def plot_corr(method):\n",
    "    sub = df[df.method==method]\n",
    "    fact = sub[[\"w\", \"m\", \"c\"]].apply(lambda x: pd.factorize(x)[0])\n",
    "    fact[\"elapsed\"] = sub.elapsed\n",
    "    corr = fact.corr(method=\"pearson\", min_periods=1)\n",
    "    return corr[\"elapsed\"]"
   ]
  },
  {
   "cell_type": "code",
   "execution_count": 118,
   "id": "rapid-ordinary",
   "metadata": {},
   "outputs": [],
   "source": [
    "results = []\n",
    "for method in df.method.unique():\n",
    "    c = plot_corr(method)\n",
    "    results.append([method, c[\"w\"], c[\"m\"], c[\"c\"]])"
   ]
  },
  {
   "cell_type": "code",
   "execution_count": 119,
   "id": "bound-marking",
   "metadata": {},
   "outputs": [],
   "source": [
    "res = pd.DataFrame(results, columns=[\"method\", \"w\", \"m\", \"c\"])\n",
    "corr = res.set_index(\"method\").abs()"
   ]
  },
  {
   "cell_type": "code",
   "execution_count": 127,
   "id": "resistant-average",
   "metadata": {},
   "outputs": [],
   "source": [
    "corr = corr.rename(\n",
    "    columns={\n",
    "        \"w\": \"w_dist\",   # weight distribution\n",
    "        \"m\": \"cw_ratio\", # ratio of max knapsack capacity to total weight\n",
    "        \"c\": \"pw_corr\",  # cost distribution/style - default uni\n",
    "    }\n",
    ")"
   ]
  },
  {
   "cell_type": "raw",
   "id": "forty-wages",
   "metadata": {},
   "source": [
    "- výpočetní náročnost dynamického programování může být citlivá na maximální váhu nebo cenu,\n",
    "- výkon metod, které vycházejí ze stavu \"prázdný batoh\" se může lišit od metod, vycházejících ze stavu \"plný batoh\" podle poměru celková váha / kapacita batohu,\n",
    "- není jasné, jakou roli hraje granularita instance (převaha malých nebo převaha velkých věcí).\n",
    "- je konkrétní implementace heuristiky (zejména metoda větví a hranic) robustní?"
   ]
  },
  {
   "cell_type": "code",
   "execution_count": 128,
   "id": "metallic-database",
   "metadata": {},
   "outputs": [
    {
     "data": {
      "text/plain": [
       "<AxesSubplot:ylabel='method'>"
      ]
     },
     "execution_count": 128,
     "metadata": {},
     "output_type": "execute_result"
    },
    {
     "data": {
      "image/png": "[encoded data removed]",
      "text/plain": [
       "<Figure size 432x288 with 2 Axes>"
      ]
     },
     "metadata": {
      "needs_background": "light"
     },
     "output_type": "display_data"
    }
   ],
   "source": [
    "sns.heatmap(corr, vmin=0, vmax=1, cmap=\"Blues\")"
   ]
  },
  {
   "cell_type": "code",
   "execution_count": null,
   "id": "centered-fiber",
   "metadata": {},
   "outputs": [],
   "source": []
  }
 ],
 "metadata": {
  "kernelspec": {
   "display_name": "Python 3",
   "language": "python",
   "name": "python3"
  },
  "language_info": {
   "codemirror_mode": {
    "name": "ipython",
    "version": 3
   },
   "file_extension": ".py",
   "mimetype": "text/x-python",
   "name": "python",
   "nbconvert_exporter": "python",
   "pygments_lexer": "ipython3",
   "version": "3.8.2"
  }
 },
 "nbformat": 4,
 "nbformat_minor": 5
}
