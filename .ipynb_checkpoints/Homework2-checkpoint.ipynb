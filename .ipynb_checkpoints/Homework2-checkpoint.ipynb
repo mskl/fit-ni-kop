{
 "cells": [
  {
   "cell_type": "code",
   "execution_count": 1,
   "id": "double-parker",
   "metadata": {},
   "outputs": [],
   "source": [
    "%load_ext autoreload\n",
    "%autoreload 2"
   ]
  },
  {
   "cell_type": "code",
   "execution_count": 2,
   "id": "excessive-turner",
   "metadata": {},
   "outputs": [],
   "source": [
    "from bagsolver.bag import Bag\n",
    "from bagsolver.utils import load_bag_data, parse_solution\n",
    "from concurrent.futures import ThreadPoolExecutor, ProcessPoolExecutor, as_completed\n",
    "\n",
    "from experiment2 import run"
   ]
  },
  {
   "cell_type": "code",
   "execution_count": 3,
   "id": "raising-puppy",
   "metadata": {},
   "outputs": [],
   "source": [
    "runs = {\n",
    "    \"branch_bound\": (\"solve_branch_bound\", {}),\n",
    "    \"greedy_simple\": (\"solve_greedy\", {\"redux\": False}),\n",
    "    \"greedy_redux\": (\"solve_greedy\", {\"redux\": True}),\n",
    "    \"dynamic_cost\": (\"solve_dynamic_cost\", {}),\n",
    "    \"dynamic_weight\": (\"solve_dynamic_weight\", {}),\n",
    "    \"solve_ftapas_03\": (\"solve_ftapas\", {\"epsilon\": 0.3}),\n",
    "    \"solve_ftapas_05\": (\"solve_ftapas\", {\"epsilon\": 0.5}),\n",
    "    \"solve_ftapas_07\": (\"solve_ftapas\", {\"epsilon\": 0.7}),\n",
    "}"
   ]
  },
  {
   "cell_type": "code",
   "execution_count": null,
   "id": "curious-summit",
   "metadata": {},
   "outputs": [
    {
     "name": "stderr",
     "output_type": "stream",
     "text": [
      " 12%|█▏        | 53/432 [00:09<01:43,  3.68it/s]"
     ]
    }
   ],
   "source": [
    "df = run(runs, 5, ThreadPoolExecutor, 3)"
   ]
  },
  {
   "cell_type": "code",
   "execution_count": null,
   "id": "floral-rendering",
   "metadata": {},
   "outputs": [],
   "source": []
  }
 ],
 "metadata": {
  "kernelspec": {
   "display_name": "Python 3",
   "language": "python",
   "name": "python3"
  },
  "language_info": {
   "codemirror_mode": {
    "name": "ipython",
    "version": 3
   },
   "file_extension": ".py",
   "mimetype": "text/x-python",
   "name": "python",
   "nbconvert_exporter": "python",
   "pygments_lexer": "ipython3",
   "version": "3.8.2"
  }
 },
 "nbformat": 4,
 "nbformat_minor": 5
}
