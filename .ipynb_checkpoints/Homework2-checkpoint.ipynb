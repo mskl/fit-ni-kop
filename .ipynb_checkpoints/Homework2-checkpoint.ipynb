{
 "cells": [
  {
   "cell_type": "code",
   "execution_count": 11,
   "id": "danish-experiment",
   "metadata": {},
   "outputs": [],
   "source": [
    "%load_ext autoreload\n",
    "%autoreload 2"
   ]
  },
  {
   "cell_type": "code",
   "execution_count": 12,
   "id": "excessive-turner",
   "metadata": {},
   "outputs": [],
   "source": [
    "from bagsolver.bag import Bag\n",
    "from bagsolver.utils import load_bag_data, parse_solution\n",
    "from concurrent.futures import ThreadPoolExecutor, ProcessPoolExecutor, as_completed\n",
    "\n",
    "from experiment2 import run"
   ]
  },
  {
   "cell_type": "markdown",
   "id": "light-tanzania",
   "metadata": {},
   "source": [
    "- Experiment má odpovědět na tyto otázky:\n",
    "- Odpovídají obě závislosti (kvality a času) předpokladům?\n",
    "- Je některá heuristická metoda systematicky lepší (tzv. dominance) v některém kritériu?\n",
    "- Jak se liší obtížnost jednotlivých sad z hlediska jednotlivých metod?\n",
    "- Jaká je závislost maximální chyby (ε) a času FPTAS algoritmu na zvolené přesnosti? Odpovídá předpokladům?"
   ]
  },
  {
   "cell_type": "code",
   "execution_count": 14,
   "id": "secure-sleep",
   "metadata": {},
   "outputs": [],
   "source": [
    "import pandas as pd\n",
    "import seaborn as sns\n",
    "import matplotlib.pyplot as plt\n",
    "%matplotlib inline\n",
    "\n",
    "df = pd.read_csv(\"full-to-27-fix2.csv\")"
   ]
  },
  {
   "cell_type": "code",
   "execution_count": 15,
   "id": "affiliated-lover",
   "metadata": {},
   "outputs": [],
   "source": [
    "df = df.rename(columns={\"key\": \"method\"})"
   ]
  },
  {
   "cell_type": "raw",
   "id": "front-presence",
   "metadata": {},
   "source": [
    "df"
   ]
  },
  {
   "cell_type": "code",
   "execution_count": 21,
   "id": "cloudy-above",
   "metadata": {},
   "outputs": [],
   "source": [
    "agg = df[(df.dataset==\"NK\")].groupby(by=[\"method\", \"dataset\"])[[\"elapsed\", \"delta\"]].agg([\"mean\", \"min\", \"max\"])"
   ]
  },
  {
   "cell_type": "code",
   "execution_count": 22,
   "id": "superb-cocktail",
   "metadata": {},
   "outputs": [
    {
     "data": {
      "text/html": [
       "<div>\n",
       "<style scoped>\n",
       "    .dataframe tbody tr th:only-of-type {\n",
       "        vertical-align: middle;\n",
       "    }\n",
       "\n",
       "    .dataframe tbody tr th {\n",
       "        vertical-align: top;\n",
       "    }\n",
       "\n",
       "    .dataframe thead tr th {\n",
       "        text-align: left;\n",
       "    }\n",
       "\n",
       "    .dataframe thead tr:last-of-type th {\n",
       "        text-align: right;\n",
       "    }\n",
       "</style>\n",
       "<table border=\"1\" class=\"dataframe\">\n",
       "  <thead>\n",
       "    <tr>\n",
       "      <th></th>\n",
       "      <th></th>\n",
       "      <th colspan=\"3\" halign=\"left\">elapsed</th>\n",
       "      <th colspan=\"3\" halign=\"left\">delta</th>\n",
       "    </tr>\n",
       "    <tr>\n",
       "      <th></th>\n",
       "      <th></th>\n",
       "      <th>mean</th>\n",
       "      <th>min</th>\n",
       "      <th>max</th>\n",
       "      <th>mean</th>\n",
       "      <th>min</th>\n",
       "      <th>max</th>\n",
       "    </tr>\n",
       "    <tr>\n",
       "      <th>method</th>\n",
       "      <th>dataset</th>\n",
       "      <th></th>\n",
       "      <th></th>\n",
       "      <th></th>\n",
       "      <th></th>\n",
       "      <th></th>\n",
       "      <th></th>\n",
       "    </tr>\n",
       "  </thead>\n",
       "  <tbody>\n",
       "    <tr>\n",
       "      <th>branch_bound</th>\n",
       "      <th>NK</th>\n",
       "      <td>0.327899</td>\n",
       "      <td>0.000044</td>\n",
       "      <td>23.123197</td>\n",
       "      <td>0.000000</td>\n",
       "      <td>0.0</td>\n",
       "      <td>0.0</td>\n",
       "    </tr>\n",
       "    <tr>\n",
       "      <th>dynamic_cost</th>\n",
       "      <th>NK</th>\n",
       "      <td>0.026908</td>\n",
       "      <td>0.000008</td>\n",
       "      <td>0.825567</td>\n",
       "      <td>0.000000</td>\n",
       "      <td>0.0</td>\n",
       "      <td>0.0</td>\n",
       "    </tr>\n",
       "    <tr>\n",
       "      <th>dynamic_weight</th>\n",
       "      <th>NK</th>\n",
       "      <td>0.712587</td>\n",
       "      <td>0.004808</td>\n",
       "      <td>2.664798</td>\n",
       "      <td>0.006857</td>\n",
       "      <td>0.0</td>\n",
       "      <td>24.0</td>\n",
       "    </tr>\n",
       "    <tr>\n",
       "      <th>greedy_redux</th>\n",
       "      <th>NK</th>\n",
       "      <td>0.000052</td>\n",
       "      <td>0.000012</td>\n",
       "      <td>0.000427</td>\n",
       "      <td>97.876571</td>\n",
       "      <td>0.0</td>\n",
       "      <td>1752.0</td>\n",
       "    </tr>\n",
       "    <tr>\n",
       "      <th>greedy_simple</th>\n",
       "      <th>NK</th>\n",
       "      <td>0.000041</td>\n",
       "      <td>0.000010</td>\n",
       "      <td>0.000555</td>\n",
       "      <td>100.156000</td>\n",
       "      <td>0.0</td>\n",
       "      <td>1752.0</td>\n",
       "    </tr>\n",
       "    <tr>\n",
       "      <th>solve_ftapas_15</th>\n",
       "      <th>NK</th>\n",
       "      <td>0.050787</td>\n",
       "      <td>0.000229</td>\n",
       "      <td>0.267999</td>\n",
       "      <td>3.864571</td>\n",
       "      <td>0.0</td>\n",
       "      <td>1401.0</td>\n",
       "    </tr>\n",
       "    <tr>\n",
       "      <th>solve_ftapas_30</th>\n",
       "      <th>NK</th>\n",
       "      <td>0.026208</td>\n",
       "      <td>0.000163</td>\n",
       "      <td>0.113898</td>\n",
       "      <td>11.308857</td>\n",
       "      <td>0.0</td>\n",
       "      <td>1769.0</td>\n",
       "    </tr>\n",
       "    <tr>\n",
       "      <th>solve_ftapas_50</th>\n",
       "      <th>NK</th>\n",
       "      <td>0.016003</td>\n",
       "      <td>0.000143</td>\n",
       "      <td>0.064444</td>\n",
       "      <td>25.824286</td>\n",
       "      <td>0.0</td>\n",
       "      <td>2376.0</td>\n",
       "    </tr>\n",
       "    <tr>\n",
       "      <th>solve_ftapas_70</th>\n",
       "      <th>NK</th>\n",
       "      <td>0.011521</td>\n",
       "      <td>0.000139</td>\n",
       "      <td>0.050204</td>\n",
       "      <td>40.136857</td>\n",
       "      <td>0.0</td>\n",
       "      <td>2489.0</td>\n",
       "    </tr>\n",
       "  </tbody>\n",
       "</table>\n",
       "</div>"
      ],
      "text/plain": [
       "                          elapsed                            delta       \\\n",
       "                             mean       min        max        mean  min   \n",
       "method          dataset                                                   \n",
       "branch_bound    NK       0.327899  0.000044  23.123197    0.000000  0.0   \n",
       "dynamic_cost    NK       0.026908  0.000008   0.825567    0.000000  0.0   \n",
       "dynamic_weight  NK       0.712587  0.004808   2.664798    0.006857  0.0   \n",
       "greedy_redux    NK       0.000052  0.000012   0.000427   97.876571  0.0   \n",
       "greedy_simple   NK       0.000041  0.000010   0.000555  100.156000  0.0   \n",
       "solve_ftapas_15 NK       0.050787  0.000229   0.267999    3.864571  0.0   \n",
       "solve_ftapas_30 NK       0.026208  0.000163   0.113898   11.308857  0.0   \n",
       "solve_ftapas_50 NK       0.016003  0.000143   0.064444   25.824286  0.0   \n",
       "solve_ftapas_70 NK       0.011521  0.000139   0.050204   40.136857  0.0   \n",
       "\n",
       "                                 \n",
       "                            max  \n",
       "method          dataset          \n",
       "branch_bound    NK          0.0  \n",
       "dynamic_cost    NK          0.0  \n",
       "dynamic_weight  NK         24.0  \n",
       "greedy_redux    NK       1752.0  \n",
       "greedy_simple   NK       1752.0  \n",
       "solve_ftapas_15 NK       1401.0  \n",
       "solve_ftapas_30 NK       1769.0  \n",
       "solve_ftapas_50 NK       2376.0  \n",
       "solve_ftapas_70 NK       2489.0  "
      ]
     },
     "execution_count": 22,
     "metadata": {},
     "output_type": "execute_result"
    }
   ],
   "source": [
    "agg"
   ]
  },
  {
   "cell_type": "code",
   "execution_count": 23,
   "id": "polished-sender",
   "metadata": {},
   "outputs": [
    {
     "name": "stdout",
     "output_type": "stream",
     "text": [
      "\\begin{tabular}{llrrrrrr}\n",
      "\\toprule\n",
      "                &    & \\multicolumn{3}{l}{elapsed} & \\multicolumn{3}{l}{delta} \\\\\n",
      "                &    &      mean &       min &        max &        mean &  min &     max \\\\\n",
      "method & dataset &           &           &            &             &      &         \\\\\n",
      "\\midrule\n",
      "branch\\_bound & NK &  0.327899 &  0.000044 &  23.123197 &    0.000000 &  0.0 &     0.0 \\\\\n",
      "dynamic\\_cost & NK &  0.026908 &  0.000008 &   0.825567 &    0.000000 &  0.0 &     0.0 \\\\\n",
      "dynamic\\_weight & NK &  0.712587 &  0.004808 &   2.664798 &    0.006857 &  0.0 &    24.0 \\\\\n",
      "greedy\\_redux & NK &  0.000052 &  0.000012 &   0.000427 &   97.876571 &  0.0 &  1752.0 \\\\\n",
      "greedy\\_simple & NK &  0.000041 &  0.000010 &   0.000555 &  100.156000 &  0.0 &  1752.0 \\\\\n",
      "solve\\_ftapas\\_15 & NK &  0.050787 &  0.000229 &   0.267999 &    3.864571 &  0.0 &  1401.0 \\\\\n",
      "solve\\_ftapas\\_30 & NK &  0.026208 &  0.000163 &   0.113898 &   11.308857 &  0.0 &  1769.0 \\\\\n",
      "solve\\_ftapas\\_50 & NK &  0.016003 &  0.000143 &   0.064444 &   25.824286 &  0.0 &  2376.0 \\\\\n",
      "solve\\_ftapas\\_70 & NK &  0.011521 &  0.000139 &   0.050204 &   40.136857 &  0.0 &  2489.0 \\\\\n",
      "\\bottomrule\n",
      "\\end{tabular}\n",
      "\n"
     ]
    }
   ],
   "source": [
    "print(agg.to_latex())"
   ]
  },
  {
   "cell_type": "code",
   "execution_count": 24,
   "id": "varying-speed",
   "metadata": {},
   "outputs": [],
   "source": [
    "ftapas = [\"solve_ftapas_15\", \"solve_ftapas_30\", \"solve_ftapas_50\", \"solve_ftapas_70\"]\n",
    "greedy = [\"greedy_simple\", \"greedy_redux\"]\n",
    "\n",
    "df[\"ftapas\"] = df.method.isin(ftapas)\n",
    "df[\"heuristic\"] = df.method.isin(greedy + ftapas)"
   ]
  },
  {
   "cell_type": "code",
   "execution_count": 25,
   "id": "occupational-thumbnail",
   "metadata": {},
   "outputs": [],
   "source": [
    "data = df[df.ftapas & (df[\"size\"] == 25)]"
   ]
  },
  {
   "cell_type": "code",
   "execution_count": 26,
   "id": "frozen-vertical",
   "metadata": {},
   "outputs": [],
   "source": [
    "results = []\n",
    "\n",
    "for dataset in data.dataset.unique():\n",
    "    for method in data.method.unique():\n",
    "        sel = data[(data.dataset == dataset) & (data.method == method)]\n",
    "        results.append(\n",
    "            (dataset, method, sel.elapsed.mean(), sel.elapsed.max(), sel.delta.mean(), sel.delta.max())\n",
    "        )\n",
    "        \n",
    "viz = pd.DataFrame(results, columns = [\"dataset\", \"method\", \"elapsed_mean\", \"elapsed_max\", \"delta_mean\", \"delta_max\"])\n",
    "\n",
    "viz.method = viz.method.apply(lambda x: f\"E=0.{x[13:]}\")"
   ]
  },
  {
   "cell_type": "code",
   "execution_count": 27,
   "id": "renewable-theology",
   "metadata": {},
   "outputs": [],
   "source": [
    "viz = viz.sort_values(by=\"method\")"
   ]
  },
  {
   "cell_type": "code",
   "execution_count": 28,
   "id": "starting-allergy",
   "metadata": {},
   "outputs": [
    {
     "data": {
      "image/png": "[encoded data removed]",
      "text/plain": [
       "<Figure size 864x432 with 1 Axes>"
      ]
     },
     "metadata": {
      "needs_background": "light"
     },
     "output_type": "display_data"
    }
   ],
   "source": [
    "from matplotlib.lines import Line2D\n",
    "from matplotlib import cm\n",
    "\n",
    "cmap = cm.get_cmap('Spectral')\n",
    "\n",
    "fix, ax = plt.subplots(figsize=(12, 6))\n",
    "\n",
    "max_x = viz.elapsed_mean.max() + 0.024\n",
    "max_y = viz.delta_mean.max() + 14\n",
    "\n",
    "d2m = {\"ZKW\": \"x\", \"NK\": \"o\", \"ZKC\": \"v\"}\n",
    "d2c = {\"ZKW\": cmap(0), \"NK\": cmap(180), \"ZKC\": cmap(230)}\n",
    "\n",
    "legend_elements = []\n",
    "\n",
    "for dataset in viz.dataset.unique():\n",
    "    sub = viz[viz.dataset == dataset]\n",
    "    color = d2c[dataset]\n",
    "    \n",
    "    plt.plot(sub.elapsed_mean, sub.delta_mean, color=color)\n",
    "    for row in sub.itertuples():\n",
    "        plt.plot(\n",
    "            row.elapsed_mean, row.delta_mean, \n",
    "            marker=d2m[row.dataset], color=color, label=dataset, markersize = 10\n",
    "        )\n",
    "        plt.annotate(row.method, (row.elapsed_mean-0.0035, row.delta_mean+3))\n",
    "\n",
    "    legend_elements.append(\n",
    "        Line2D([0], [0], marker=d2m[dataset], color=d2c[dataset], label=dataset, linestyle=\"None\")\n",
    "    )\n",
    "    \n",
    "plt.legend(handles=legend_elements)\n",
    "plt.grid()\n",
    "\n",
    "ax.set_ybound(lower=-10, upper=max_y)\n",
    "ax.set_xbound(lower=0, upper=max_x)\n",
    "\n",
    "ax.set_xlabel(\"mean elapsed\")\n",
    "ax.set_ylabel(\"mean error\")\n",
    "# ax.set_title(\"FPTAS average error / average time elapsed\")\n",
    "\n",
    "plt.tight_layout(pad=0.1)\n",
    "plt.savefig('report2/images/fptas_comparison.png')\n",
    "plt.show()"
   ]
  },
  {
   "cell_type": "raw",
   "id": "streaming-mileage",
   "metadata": {},
   "source": [
    "data = df[df.ftapas & (df[\"size\"] == 25)].copy()\n",
    "fig, ax = plt.subplots(ncols=3, nrows=2, figsize=(16, 5))\n",
    "for i, dataset in enumerate(['NK', 'ZKC', 'ZKW']):\n",
    "    subdata = data[data.dataset == dataset]\n",
    "    sns.histplot(x=\"elapsed\", data=subdata, ax=ax[0, i], hue=\"method\", hue_order=ftapas, kde=True, element=\"step\").set(title=dataset)\n",
    "    sns.histplot(x=\"delta\", data=subdata, ax=ax[1, i], hue=\"method\", hue_order=ftapas, kde=True, element=\"step\")\n",
    "    # ax[i].set_ybound(lower=0.9, upper=1500)\n",
    "    # ax[i].set_yscale(\"log\")\n",
    "\n",
    "plt.tight_layout(pad=0.1)\n",
    "plt.savefig('report2/images/fpatas_datasets.png')\n",
    "plt.show()"
   ]
  },
  {
   "cell_type": "code",
   "execution_count": null,
   "id": "resistant-stationery",
   "metadata": {},
   "outputs": [],
   "source": [
    "hues = [\"greedy_simple\", \"greedy_redux\"]\n",
    "\n",
    "v = df[df.method.isin(hues)].copy()\n",
    "fig, ax = plt.subplots(figsize=(18, 6), nrows=2, ncols=3, sharex=True)\n",
    "\n",
    "for c, dataset in enumerate(['NK', 'ZKC', 'ZKW']):\n",
    "    select = v[v.dataset == dataset]\n",
    "    sns.lineplot(data=select, x=\"size\", y=\"elapsed\", hue=\"method\", hue_order=hues, ax=ax[0, c]).set(title=dataset)\n",
    "    sns.lineplot(data=select, x=\"size\", y=\"delta\", hue=\"method\", hue_order=hues, ax=ax[1, c])\n",
    "\n",
    "plt.tight_layout(pad=0.1)\n",
    "plt.savefig('report2/images/greedy_comparison_datasets.png')\n",
    "plt.show()"
   ]
  },
  {
   "cell_type": "code",
   "execution_count": null,
   "id": "indoor-beverage",
   "metadata": {},
   "outputs": [],
   "source": [
    "dv = df[df.method.isin([\"dynamic_weight\", \"dynamic_cost\"])].copy()\n",
    "\n",
    "grid = sns.relplot(\n",
    "    data=dv, x=\"size\", y=\"elapsed\", hue=\"method\", col=\"dataset\", \n",
    "    col_order=[\"NK\", \"ZKW\", \"ZKC\"], kind=\"line\", legend=\"full\"\n",
    ")\n",
    "\n",
    "plt.yscale('log')\n",
    "plt.tight_layout(pad=0.1)\n",
    "plt.savefig('report2/images/dynamic_comparison.png')\n",
    "plt.show()"
   ]
  },
  {
   "cell_type": "code",
   "execution_count": null,
   "id": "living-allocation",
   "metadata": {},
   "outputs": [],
   "source": [
    "dz = df[df.method.isin([\"branch_bound\", \"dynamic_cost\", \"dynamic_weight\"])]\n",
    "\n",
    "grid = sns.relplot(\n",
    "    data=dz, x=\"size\", y=\"elapsed\", hue=\"method\", col=\"dataset\", \n",
    "    col_order=[\"NK\", \"ZKC\", \"ZKW\"], kind=\"line\", legend=\"full\"\n",
    ")\n",
    "\n",
    "plt.yscale('log')\n",
    "plt.tight_layout(pad=0.1)\n",
    "plt.savefig('report2/images/exacts_comparison.png')\n",
    "plt.show()"
   ]
  },
  {
   "cell_type": "code",
   "execution_count": null,
   "id": "assumed-needle",
   "metadata": {},
   "outputs": [],
   "source": []
  }
 ],
 "metadata": {
  "kernelspec": {
   "display_name": "Python 3",
   "language": "python",
   "name": "python3"
  },
  "language_info": {
   "codemirror_mode": {
    "name": "ipython",
    "version": 3
   },
   "file_extension": ".py",
   "mimetype": "text/x-python",
   "name": "python",
   "nbconvert_exporter": "python",
   "pygments_lexer": "ipython3",
   "version": "3.8.2"
  }
 },
 "nbformat": 4,
 "nbformat_minor": 5
}
