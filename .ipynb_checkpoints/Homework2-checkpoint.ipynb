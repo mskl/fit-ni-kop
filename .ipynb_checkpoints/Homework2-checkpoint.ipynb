{
 "cells": [
  {
   "cell_type": "code",
   "execution_count": 1,
   "id": "sufficient-reader",
   "metadata": {},
   "outputs": [],
   "source": [
    "from bagsolver.bag import Bag\n",
    "from bagsolver.utils import load_bag_data"
   ]
  },
  {
   "cell_type": "code",
   "execution_count": 2,
   "id": "pointed-patent",
   "metadata": {},
   "outputs": [],
   "source": [
    "data = load_bag_data(\"data/NK/NK10_inst.dat\", \"data/NK/NK10_sol.dat\")"
   ]
  },
  {
   "cell_type": "code",
   "execution_count": 3,
   "id": "generous-mandate",
   "metadata": {},
   "outputs": [],
   "source": [
    "bagdef, bagsol = data[30]"
   ]
  },
  {
   "cell_type": "code",
   "execution_count": 4,
   "id": "proved-employer",
   "metadata": {},
   "outputs": [],
   "source": [
    "bag = Bag.from_line(bagdef)"
   ]
  },
  {
   "cell_type": "code",
   "execution_count": 11,
   "id": "continent-consistency",
   "metadata": {},
   "outputs": [
    {
     "name": "stderr",
     "output_type": "stream",
     "text": [
      "UsageError: Line magic function `%mprun` not found.\n"
     ]
    }
   ],
   "source": [
    "%mprun\n",
    "bag.solve_dynamic()"
   ]
  },
  {
   "cell_type": "code",
   "execution_count": null,
   "id": "closing-vacuum",
   "metadata": {},
   "outputs": [],
   "source": []
  }
 ],
 "metadata": {
  "kernelspec": {
   "display_name": "Python 3",
   "language": "python",
   "name": "python3"
  },
  "language_info": {
   "codemirror_mode": {
    "name": "ipython",
    "version": 3
   },
   "file_extension": ".py",
   "mimetype": "text/x-python",
   "name": "python",
   "nbconvert_exporter": "python",
   "pygments_lexer": "ipython3",
   "version": "3.8.2"
  }
 },
 "nbformat": 4,
 "nbformat_minor": 5
}
