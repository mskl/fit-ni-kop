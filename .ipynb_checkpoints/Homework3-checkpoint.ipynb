{
 "cells": [
  {
   "cell_type": "code",
   "execution_count": 1,
   "id": "danish-experiment",
   "metadata": {},
   "outputs": [],
   "source": [
    "%load_ext autoreload\n",
    "%autoreload 2"
   ]
  },
  {
   "cell_type": "code",
   "execution_count": 2,
   "id": "excessive-turner",
   "metadata": {},
   "outputs": [],
   "source": [
    "from bagsolver.bag import Bag\n",
    "from bagsolver.utils import load_bag_data, parse_solution\n",
    "from concurrent.futures import ThreadPoolExecutor, ProcessPoolExecutor, as_completed"
   ]
  },
  {
   "cell_type": "code",
   "execution_count": 3,
   "id": "altered-daughter",
   "metadata": {},
   "outputs": [],
   "source": [
    "import numpy as np\n",
    "import pandas as pd\n",
    "import seaborn as sns\n",
    "import matplotlib.pyplot as plt\n",
    "%matplotlib inline"
   ]
  },
  {
   "cell_type": "code",
   "execution_count": 98,
   "id": "operating-isolation",
   "metadata": {},
   "outputs": [],
   "source": [
    "import subprocess\n",
    "\n",
    "def gen_instances(I, N, n=24, W=3000, C=3000, w=\"bal\", m=0.8, c=\"uni\") -> tuple:\n",
    "    args = f\"-I {I} -N {N} -n {n} -W {W} -C {C} -w {w} -m {m} -c {c}\"\n",
    "    full = f\"./data/GEN/kg2 {args}\"\n",
    "    popen = subprocess.Popen(full.split(\" \"), stdout=subprocess.PIPE, stderr=subprocess.PIPE)\n",
    "    output, errors = popen.communicate()\n",
    "    return args, output.decode().strip()"
   ]
  },
  {
   "cell_type": "code",
   "execution_count": 130,
   "id": "exterior-burton",
   "metadata": {},
   "outputs": [],
   "source": [
    "args, instances = gen_instances(1, 10)"
   ]
  },
  {
   "cell_type": "code",
   "execution_count": 176,
   "id": "wireless-garlic",
   "metadata": {},
   "outputs": [],
   "source": [
    "import random\n",
    "\n",
    "def permute_instance(instance):\n",
    "    iid, count, capacity, *items = instance.split(\" \")\n",
    "    pairs = list(zip(items[::2], items[1::2]))\n",
    "    random.shuffle(pairs)\n",
    "    return \" \".join([iid, count, capacity] + list(sum(pairs, ())))"
   ]
  },
  {
   "cell_type": "raw",
   "id": "lightweight-uzbekistan",
   "metadata": {},
   "source": [
    "instance = instances.split(\"\\n\")[0]\n",
    "permute_instance(instance)"
   ]
  },
  {
   "cell_type": "code",
   "execution_count": 192,
   "id": "coordinate-assembly",
   "metadata": {},
   "outputs": [],
   "source": [
    "# Bound methods of the Bag class\n",
    "algorithms = [\"solve_bruteforce\", \"solve_branch_bound\", \"solve_greedy\", \"solve_dynamic_cost\"]"
   ]
  },
  {
   "cell_type": "markdown",
   "id": "coral-consent",
   "metadata": {},
   "source": [
    "### Generate robust"
   ]
  },
  {
   "cell_type": "code",
   "execution_count": 249,
   "id": "native-collapse",
   "metadata": {},
   "outputs": [],
   "source": [
    "iid = 1  # starting instance id\n",
    "N = 500  # number of generated items\n",
    "n = 20   # instance size\n",
    "\n",
    "records = []\n",
    "\n",
    "# weight distribution - default bal\n",
    "args, result = gen_instances(iid, N, n=n)\n",
    "for inst in result.split(\"\\n\"):\n",
    "    for alg in algorithms:\n",
    "        for i in range(10):\n",
    "            perminst = permute_instance(inst)\n",
    "            records.append([perminst, alg, args])\n",
    "\n",
    "tasks = pd.DataFrame(records, columns=[\"instance\", \"method\", \"args\"])\n",
    "tasks.to_csv(\"hw3_tasks_robust.csv\", index=False)"
   ]
  },
  {
   "cell_type": "markdown",
   "id": "short-active",
   "metadata": {},
   "source": [
    "##### Robust Viz"
   ]
  },
  {
   "cell_type": "code",
   "execution_count": 320,
   "id": "demanding-economics",
   "metadata": {},
   "outputs": [],
   "source": [
    "df = pd.read_csv(\"hw3_output_robust.csv\")"
   ]
  },
  {
   "cell_type": "code",
   "execution_count": 321,
   "id": "fitted-destruction",
   "metadata": {},
   "outputs": [],
   "source": [
    "df[\"id\"] = df.instance.apply(lambda x: x.split(\" \")[0])"
   ]
  },
  {
   "cell_type": "code",
   "execution_count": 322,
   "id": "olympic-british",
   "metadata": {},
   "outputs": [],
   "source": [
    "var = df.groupby(by=[\"method\", \"id\"]).agg([\"mean\", \"var\"])"
   ]
  },
  {
   "cell_type": "code",
   "execution_count": 340,
   "id": "modular-assessment",
   "metadata": {},
   "outputs": [],
   "source": [
    "mvar = var.reset_index()[[(\"method\",''), (\"elapsed\", \"var\"), (\"elapsed\", \"mean\")]]"
   ]
  },
  {
   "cell_type": "code",
   "execution_count": 341,
   "id": "demographic-pollution",
   "metadata": {},
   "outputs": [],
   "source": [
    "mvar.columns = [\"method\", \"var\", \"mean\"]"
   ]
  },
  {
   "cell_type": "code",
   "execution_count": 342,
   "id": "unlikely-pitch",
   "metadata": {},
   "outputs": [],
   "source": [
    "mean_var = mvar.groupby(\"method\").mean()"
   ]
  },
  {
   "cell_type": "code",
   "execution_count": 346,
   "id": "criminal-lewis",
   "metadata": {},
   "outputs": [
    {
     "data": {
      "text/plain": [
       "method\n",
       "solve_branch_bound   0.00282743\n",
       "solve_bruteforce     0.21221585\n",
       "solve_dynamic_cost   0.04842127\n",
       "solve_greedy         0.00015563\n",
       "dtype: float64"
      ]
     },
     "execution_count": 346,
     "metadata": {},
     "output_type": "execute_result"
    }
   ],
   "source": [
    "mean_var[\"var\"] / mean_var[\"mean\"]"
   ]
  },
  {
   "cell_type": "code",
   "execution_count": 330,
   "id": "prepared-vertical",
   "metadata": {},
   "outputs": [
    {
     "name": "stdout",
     "output_type": "stream",
     "text": [
      "\\begin{tabular}{lrr}\n",
      "\\toprule\n",
      "{} &    elapsed &       mean \\\\\n",
      "method             &            &            \\\\\n",
      "\\midrule\n",
      "solve\\_branch\\_bound & 0.00001817 & 0.00642724 \\\\\n",
      "solve\\_bruteforce   & 1.95676123 & 9.22061772 \\\\\n",
      "solve\\_dynamic\\_cost & 0.01843123 & 0.38064328 \\\\\n",
      "solve\\_greedy       & 0.00000001 & 0.00006964 \\\\\n",
      "\\bottomrule\n",
      "\\end{tabular}\n",
      "\n"
     ]
    }
   ],
   "source": [
    "print(mean_var.to_latex())"
   ]
  },
  {
   "cell_type": "markdown",
   "id": "handy-pleasure",
   "metadata": {},
   "source": [
    "### Generate pilot"
   ]
  },
  {
   "cell_type": "code",
   "execution_count": null,
   "id": "flexible-promotion",
   "metadata": {},
   "outputs": [],
   "source": [
    "# the ratio of max knapsack capacity to total weight\n",
    "for m in np.linspace(0, 2, 5):\n",
    "    # cost distribution/style - default uni\n",
    "    for c in [\"uni\", \"corr\", \"strong\"]:"
   ]
  },
  {
   "cell_type": "code",
   "execution_count": 459,
   "id": "incredible-fetish",
   "metadata": {},
   "outputs": [],
   "source": [
    "iid = 1  # starting instance id\n",
    "N = 10   # number of generated items\n",
    "n = 20   # instance size\n",
    "\n",
    "records = []\n",
    "\n",
    "# weight distribution - default bal\n",
    "for w in [\"bal\", \"light\", \"heavy\"]:\n",
    "    args, result = gen_instances(iid, N, n=n, w=w)\n",
    "    for inst in result.split(\"\\n\"):\n",
    "        for alg in algorithms:\n",
    "            records.append([inst, alg, args, \"w\"])\n",
    "    iid += N\n",
    "    \n",
    "for m in np.linspace(0, 2, 5):\n",
    "    args, result = gen_instances(iid, N, n=n, m=m)\n",
    "    for inst in result.split(\"\\n\"):\n",
    "        for alg in algorithms:\n",
    "            records.append([inst, alg, args, \"m\"])\n",
    "    iid += N\n",
    "\n",
    "for c in [\"uni\", \"corr\", \"strong\"]:\n",
    "    args, result = gen_instances(iid, N, n=n, c=c)\n",
    "    for inst in result.split(\"\\n\"):\n",
    "        for alg in algorithms:\n",
    "            records.append([inst, alg, args, \"c\"])\n",
    "    iid += N\n",
    "\n",
    "tasks = pd.DataFrame(records, columns=[\"instance\", \"method\", \"args\", \"tag\"])\n",
    "tasks.to_csv(\"hw3_tasks_pilot.csv\", index=False)"
   ]
  },
  {
   "cell_type": "markdown",
   "id": "floppy-taxation",
   "metadata": {},
   "source": [
    "### Prepare data for pilot"
   ]
  },
  {
   "cell_type": "code",
   "execution_count": 462,
   "id": "shared-metabolism",
   "metadata": {},
   "outputs": [],
   "source": [
    "def args2dict(args) -> dict:\n",
    "    return {tup.split(\" \")[0]: tup.split(\" \")[1] for tup in args.strip(\"-\").split(\"-\")}"
   ]
  },
  {
   "cell_type": "code",
   "execution_count": 463,
   "id": "little-thought",
   "metadata": {},
   "outputs": [],
   "source": [
    "df = pd.read_csv(\"hw3_output_pilot.csv\")\n",
    "df.args = df.args.apply(args2dict)\n",
    "df = df.join(pd.json_normalize(df.args)).drop(columns=[\"args\"])"
   ]
  },
  {
   "cell_type": "code",
   "execution_count": 464,
   "id": "stuffed-banana",
   "metadata": {},
   "outputs": [],
   "source": [
    "df.m = df.m.astype(float)\n",
    "df.w = df.w.map({\"light\": 0, \"bal\": 1, \"heavy\": 2})\n",
    "df.c = df.c.map({\"uni\": 0, \"corr\": 1, \"strong\": 2})"
   ]
  },
  {
   "cell_type": "code",
   "execution_count": 465,
   "id": "amateur-payroll",
   "metadata": {},
   "outputs": [],
   "source": [
    "def plot_corr(method):\n",
    "    sub = df[df.method==method].copy()\n",
    "    fact = sub[[\"w\", \"m\", \"c\", \"elapsed\"]] #.apply(lambda x: pd.factorize(x)[0])\n",
    "    corr = fact.corr(method=\"pearson\", min_periods=1)\n",
    "    return corr[\"elapsed\"]"
   ]
  },
  {
   "cell_type": "code",
   "execution_count": 466,
   "id": "social-ireland",
   "metadata": {},
   "outputs": [],
   "source": [
    "results = []\n",
    "for method in df.method.unique():\n",
    "    c = plot_corr(method)\n",
    "    results.append([method, c[\"w\"], c[\"m\"], c[\"c\"]])"
   ]
  },
  {
   "cell_type": "code",
   "execution_count": 467,
   "id": "intended-bernard",
   "metadata": {},
   "outputs": [],
   "source": [
    "res = pd.DataFrame(results, columns=[\"method\", \"w\", \"m\", \"c\"])\n",
    "corr = res.set_index(\"method\").abs()"
   ]
  },
  {
   "cell_type": "code",
   "execution_count": 468,
   "id": "unusual-switzerland",
   "metadata": {},
   "outputs": [],
   "source": [
    "corr = corr.rename(\n",
    "    columns={\n",
    "        \"w\": \"w_dist\",   # weight distribution\n",
    "        \"m\": \"cw_ratio\", # ratio of max knapsack capacity to total weight\n",
    "        \"c\": \"pw_corr\",  # cost distribution/style - default uni\n",
    "    }\n",
    ")"
   ]
  },
  {
   "cell_type": "raw",
   "id": "built-centre",
   "metadata": {},
   "source": [
    "- výpočetní náročnost dynamického programování může být citlivá na maximální váhu nebo cenu,\n",
    "- výkon metod, které vycházejí ze stavu \"prázdný batoh\" se může lišit od metod, vycházejících ze stavu \"plný batoh\" podle poměru celková váha / kapacita batohu,\n",
    "- není jasné, jakou roli hraje granularita instance (převaha malých nebo převaha velkých věcí).\n",
    "- je konkrétní implementace heuristiky (zejména metoda větví a hranic) robustní?"
   ]
  },
  {
   "cell_type": "code",
   "execution_count": 469,
   "id": "magnetic-prior",
   "metadata": {},
   "outputs": [],
   "source": [
    "corr = corr.loc[[\"solve_bruteforce\", \"solve_greedy\", \"solve_branch_bound\", \"solve_dynamic_cost\"]]\n",
    "\n",
    "corr.index = corr.index.map({\n",
    "    \"solve_bruteforce\": \"bruteforce\",\n",
    "    \"solve_greedy\": \"heuristic\",\n",
    "    \"solve_branch_bound\":\"branch&bound\",\n",
    "    \"solve_dynamic_cost\": \"dynamic\"\n",
    "})"
   ]
  },
  {
   "cell_type": "code",
   "execution_count": 470,
   "id": "vietnamese-incidence",
   "metadata": {},
   "outputs": [
    {
     "data": {
      "image/png": "[encoded data removed]",
      "text/plain": [
       "<Figure size 720x288 with 2 Axes>"
      ]
     },
     "metadata": {
      "needs_background": "light"
     },
     "output_type": "display_data"
    }
   ],
   "source": [
    "fig, ax = plt.subplots(figsize=(10, 4))\n",
    "sns.heatmap(corr.T, vmin=0, vmax=1, cmap=\"Blues\")\n",
    "ax.set_xlabel(\"algorithm\")\n",
    "ax.set_ylabel(\"changed variable\")\n",
    "plt.tight_layout(pad=0)\n",
    "plt.savefig('report3/images/pilot.png', bbox_inches='tight')\n",
    "plt.show()"
   ]
  },
  {
   "cell_type": "markdown",
   "id": "cardiac-camping",
   "metadata": {},
   "source": [
    "### Detailed Experiments"
   ]
  },
  {
   "cell_type": "code",
   "execution_count": 439,
   "id": "stunning-absorption",
   "metadata": {},
   "outputs": [],
   "source": [
    "ns = [4, 8, 16, 20, 24]\n",
    "iid = 1   # starting instance id\n",
    "N = 100   # number of generated items\n",
    "records = []"
   ]
  },
  {
   "cell_type": "code",
   "execution_count": null,
   "id": "tribal-birmingham",
   "metadata": {},
   "outputs": [],
   "source": [
    "for n in ns:\n",
    "    for alg in [\"solve_branch_bound\", \"solve_dynamic_cost\"]:\n",
    "        for w in [\"bal\", \"light\", \"heavy\"]:\n",
    "            args, result = gen_instances(iid, N, n=n, w=w)\n",
    "            for inst in result.split(\"\\n\"):\n",
    "                for alg in algorithms:\n",
    "                    records.append([inst, alg, args, \"w\"])\n",
    "            iid += N\n",
    "        for m in np.linspace(0, 2, 5):\n",
    "            args, result = gen_instances(iid, N, n=n, m=m)\n",
    "            for inst in result.split(\"\\n\"):\n",
    "                for alg in algorithms:\n",
    "                    records.append([inst, alg, args, \"m\"])\n",
    "            iid += N\n",
    "        for c in [\"uni\", \"corr\", \"strong\"]:\n",
    "            args, result = gen_instances(iid, N, n=n, c=c)\n",
    "            for inst in result.split(\"\\n\"):\n",
    "                for alg in algorithms:\n",
    "                    records.append([inst, alg, args, \"c\"])\n",
    "            iid += N\n",
    "            \n",
    "tasks = pd.DataFrame(records, columns=[\"instance\", \"method\", \"args\", \"tag\"])\n",
    "tasks.to_csv(\"hw3_tasks_pilot.csv\", index=False)"
   ]
  },
  {
   "cell_type": "code",
   "execution_count": null,
   "id": "constant-surfing",
   "metadata": {},
   "outputs": [],
   "source": [
    "n = 20   # instance size\n",
    "\n",
    "\n",
    "# weight distribution - default bal\n",
    "for w in [\"bal\", \"light\", \"heavy\"]:\n",
    "    # the ratio of max knapsack capacity to total weight\n",
    "    for m in np.linspace(0, 2, 5):\n",
    "        # cost distribution/style - default uni\n",
    "        for c in [\"uni\", \"corr\", \"strong\"]:\n",
    "            args, result = gen_instances(iid, N, n=n, w=w, m=m, c=c)\n",
    "            for inst in result.split(\"\\n\"):\n",
    "                for alg in algorithms:\n",
    "                    records.append([inst, alg, args])\n",
    "            iid += N\n",
    "\n",
    "tasks = pd.DataFrame(records, columns=[\"instance\", \"method\", \"args\"])\n",
    "tasks.to_csv(\"hw3_tasks_pilot.csv\", index=False)"
   ]
  }
 ],
 "metadata": {
  "kernelspec": {
   "display_name": "Python 3",
   "language": "python",
   "name": "python3"
  },
  "language_info": {
   "codemirror_mode": {
    "name": "ipython",
    "version": 3
   },
   "file_extension": ".py",
   "mimetype": "text/x-python",
   "name": "python",
   "nbconvert_exporter": "python",
   "pygments_lexer": "ipython3",
   "version": "3.8.2"
  }
 },
 "nbformat": 4,
 "nbformat_minor": 5
}
