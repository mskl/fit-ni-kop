{
 "cells": [
  {
   "cell_type": "code",
   "execution_count": 2,
   "id": "distinguished-columbia",
   "metadata": {},
   "outputs": [],
   "source": [
    "%load_ext autoreload\n",
    "%autoreload 2"
   ]
  },
  {
   "cell_type": "code",
   "execution_count": 3,
   "id": "offshore-watch",
   "metadata": {},
   "outputs": [],
   "source": [
    "import numpy as np\n",
    "from tqdm.notebook import tqdm"
   ]
  },
  {
   "cell_type": "code",
   "execution_count": 4,
   "id": "alternate-boring",
   "metadata": {},
   "outputs": [],
   "source": [
    "problem_path = \"data/wuf-N1/wuf20-78-N1/wuf20-0305.mwcnf\"\n",
    "soltion_path = \"data/wuf-N1/wuf20-78-N-opt.dat\""
   ]
  },
  {
   "cell_type": "code",
   "execution_count": 5,
   "id": "orange-tuition",
   "metadata": {},
   "outputs": [],
   "source": [
    "from satsolver.genetic import GeneticSolver\n",
    "from satsolver.utils import load_solutions\n",
    "\n",
    "solutions = load_solutions(soltion_path)"
   ]
  },
  {
   "cell_type": "code",
   "execution_count": 6,
   "id": "large-puzzle",
   "metadata": {},
   "outputs": [],
   "source": [
    "import glob\n",
    "\n",
    "selected = glob.glob(\"data/wuf-N1/wuf20-78-N1/*\")[:20]\n",
    "\n",
    "problems = []\n",
    "for batch_size in [5, 10, 20, 40, 80, 160, 320, 640, 1280]:\n",
    "    for mutation_rate in [0, 0.01, 0.02, 0.04, 0.08, 0.16, 0.32]:\n",
    "        for init_type in [\"allfalse\", \"uniform\"]:\n",
    "            for fitness_type in [\"sum_or_nothing\", \"correct_count\"]:\n",
    "                for problem_path in selected:\n",
    "                    problems.append([batch_size,mutation_rate,problem_path,init_type,fitness_type])"
   ]
  },
  {
   "cell_type": "raw",
   "id": "mobile-exclusion",
   "metadata": {},
   "source": [
    "results = []\n",
    "for batch_size, mutation_rate, problem_path in tqdm(problems):\n",
    "    self = GeneticSolver.from_file(\n",
    "        problem_path, batch_size=batch_size, mutation_rate=mutation_rate, \n",
    "        fitness_type=\"correct_count\", init_type=\"uniform\"\n",
    "    )\n",
    "    pool = self.new_pool()\n",
    "    start = time.time()\n",
    "    solved_time = None\n",
    "    solved = False\n",
    "    while (time.time() - start) < 1:\n",
    "        pool = self.genetic_iteration(pool)\n",
    "        solved = self.solved()\n",
    "        if solved:\n",
    "            solved_time = time.time() - start\n",
    "            break\n",
    "    results.append([batch_size, mutation_rate, solved_time, solved])"
   ]
  },
  {
   "cell_type": "code",
   "execution_count": 9,
   "id": "steady-community",
   "metadata": {},
   "outputs": [],
   "source": [
    "import pandas as pd\n",
    "\n",
    "rd = pd.DataFrame.from_records(results, columns=\"batch_size,mutation_rate,solved_time,solved\".split(\",\") )"
   ]
  },
  {
   "cell_type": "code",
   "execution_count": 11,
   "id": "pregnant-canadian",
   "metadata": {},
   "outputs": [],
   "source": [
    "rd = pd.read_csv(\"pilot5v3.csv\")"
   ]
  },
  {
   "cell_type": "code",
   "execution_count": 20,
   "id": "expired-runner",
   "metadata": {},
   "outputs": [],
   "source": [
    "init_types = [\"allfalse\", \"uniform\"]\n",
    "fitness_types = [\"sum_or_nothing\", \"correct_count\"]"
   ]
  },
  {
   "cell_type": "code",
   "execution_count": 21,
   "id": "growing-african",
   "metadata": {},
   "outputs": [],
   "source": [
    "def mutate(p: np.ndarray) -> np.array:\n",
    "    \"\"\"Mutate the p array with the preset probability.\"\"\"\n",
    "    mutation_mask = (np.random.rand(len(p)) < 0.3).astype(\"int8\")\n",
    "    return np.where(mutation_mask == 0, p, -p)"
   ]
  },
  {
   "cell_type": "code",
   "execution_count": 30,
   "id": "formed-situation",
   "metadata": {},
   "outputs": [],
   "source": [
    "g = w.groupby(by=[\"batch_size\", \"mutation_rate\"])[\"solved_time\"].mean()"
   ]
  },
  {
   "cell_type": "code",
   "execution_count": 31,
   "id": "characteristic-baking",
   "metadata": {},
   "outputs": [
    {
     "data": {
      "text/plain": [
       "batch_size  mutation_rate\n",
       "5           0.00             0.022894\n",
       "            0.01             0.207491\n",
       "            0.02             0.106128\n",
       "            0.04             0.094578\n",
       "            0.08             0.073883\n",
       "                               ...   \n",
       "1280        0.02             1.126227\n",
       "            0.04             1.100394\n",
       "            0.08             1.149258\n",
       "            0.16             1.150766\n",
       "            0.32             1.227986\n",
       "Name: solved_time, Length: 63, dtype: float64"
      ]
     },
     "execution_count": 31,
     "metadata": {},
     "output_type": "execute_result"
    }
   ],
   "source": [
    "g"
   ]
  },
  {
   "cell_type": "code",
   "execution_count": 33,
   "id": "superior-testimony",
   "metadata": {},
   "outputs": [
    {
     "data": {
      "text/html": [
       "<div>\n",
       "<style scoped>\n",
       "    .dataframe tbody tr th:only-of-type {\n",
       "        vertical-align: middle;\n",
       "    }\n",
       "\n",
       "    .dataframe tbody tr th {\n",
       "        vertical-align: top;\n",
       "    }\n",
       "\n",
       "    .dataframe thead th {\n",
       "        text-align: right;\n",
       "    }\n",
       "</style>\n",
       "<table border=\"1\" class=\"dataframe\">\n",
       "  <thead>\n",
       "    <tr style=\"text-align: right;\">\n",
       "      <th>mutation_rate</th>\n",
       "      <th>0.00</th>\n",
       "      <th>0.01</th>\n",
       "      <th>0.02</th>\n",
       "      <th>0.04</th>\n",
       "      <th>0.08</th>\n",
       "      <th>0.16</th>\n",
       "      <th>0.32</th>\n",
       "    </tr>\n",
       "    <tr>\n",
       "      <th>batch_size</th>\n",
       "      <th></th>\n",
       "      <th></th>\n",
       "      <th></th>\n",
       "      <th></th>\n",
       "      <th></th>\n",
       "      <th></th>\n",
       "      <th></th>\n",
       "    </tr>\n",
       "  </thead>\n",
       "  <tbody>\n",
       "    <tr>\n",
       "      <th>5</th>\n",
       "      <td>0.00000</td>\n",
       "      <td>0.0</td>\n",
       "      <td>0.000000</td>\n",
       "      <td>0.000000</td>\n",
       "      <td>0.000000</td>\n",
       "      <td>0.000000</td>\n",
       "      <td>0.132498</td>\n",
       "    </tr>\n",
       "    <tr>\n",
       "      <th>10</th>\n",
       "      <td>0.00000</td>\n",
       "      <td>0.0</td>\n",
       "      <td>0.000000</td>\n",
       "      <td>0.000000</td>\n",
       "      <td>0.000000</td>\n",
       "      <td>0.000000</td>\n",
       "      <td>0.000000</td>\n",
       "    </tr>\n",
       "    <tr>\n",
       "      <th>20</th>\n",
       "      <td>0.00000</td>\n",
       "      <td>0.0</td>\n",
       "      <td>0.000000</td>\n",
       "      <td>0.000000</td>\n",
       "      <td>0.000000</td>\n",
       "      <td>0.109781</td>\n",
       "      <td>0.176654</td>\n",
       "    </tr>\n",
       "    <tr>\n",
       "      <th>40</th>\n",
       "      <td>0.00000</td>\n",
       "      <td>0.0</td>\n",
       "      <td>0.000000</td>\n",
       "      <td>0.000000</td>\n",
       "      <td>0.000000</td>\n",
       "      <td>0.132702</td>\n",
       "      <td>0.000000</td>\n",
       "    </tr>\n",
       "    <tr>\n",
       "      <th>80</th>\n",
       "      <td>0.00000</td>\n",
       "      <td>0.0</td>\n",
       "      <td>0.000000</td>\n",
       "      <td>0.000000</td>\n",
       "      <td>0.193329</td>\n",
       "      <td>0.195494</td>\n",
       "      <td>0.000000</td>\n",
       "    </tr>\n",
       "    <tr>\n",
       "      <th>160</th>\n",
       "      <td>0.00000</td>\n",
       "      <td>0.0</td>\n",
       "      <td>0.000000</td>\n",
       "      <td>0.000000</td>\n",
       "      <td>0.268820</td>\n",
       "      <td>0.304586</td>\n",
       "      <td>0.386288</td>\n",
       "    </tr>\n",
       "    <tr>\n",
       "      <th>320</th>\n",
       "      <td>0.00000</td>\n",
       "      <td>0.0</td>\n",
       "      <td>0.000000</td>\n",
       "      <td>0.462982</td>\n",
       "      <td>0.446205</td>\n",
       "      <td>0.448275</td>\n",
       "      <td>0.000000</td>\n",
       "    </tr>\n",
       "    <tr>\n",
       "      <th>640</th>\n",
       "      <td>0.74098</td>\n",
       "      <td>0.0</td>\n",
       "      <td>0.697818</td>\n",
       "      <td>0.000000</td>\n",
       "      <td>0.689486</td>\n",
       "      <td>0.714807</td>\n",
       "      <td>0.000000</td>\n",
       "    </tr>\n",
       "    <tr>\n",
       "      <th>1280</th>\n",
       "      <td>0.00000</td>\n",
       "      <td>0.0</td>\n",
       "      <td>0.000000</td>\n",
       "      <td>1.100394</td>\n",
       "      <td>0.000000</td>\n",
       "      <td>0.000000</td>\n",
       "      <td>0.000000</td>\n",
       "    </tr>\n",
       "  </tbody>\n",
       "</table>\n",
       "</div>"
      ],
      "text/plain": [
       "mutation_rate     0.00  0.01      0.02      0.04      0.08      0.16      0.32\n",
       "batch_size                                                                    \n",
       "5              0.00000   0.0  0.000000  0.000000  0.000000  0.000000  0.132498\n",
       "10             0.00000   0.0  0.000000  0.000000  0.000000  0.000000  0.000000\n",
       "20             0.00000   0.0  0.000000  0.000000  0.000000  0.109781  0.176654\n",
       "40             0.00000   0.0  0.000000  0.000000  0.000000  0.132702  0.000000\n",
       "80             0.00000   0.0  0.000000  0.000000  0.193329  0.195494  0.000000\n",
       "160            0.00000   0.0  0.000000  0.000000  0.268820  0.304586  0.386288\n",
       "320            0.00000   0.0  0.000000  0.462982  0.446205  0.448275  0.000000\n",
       "640            0.74098   0.0  0.697818  0.000000  0.689486  0.714807  0.000000\n",
       "1280           0.00000   0.0  0.000000  1.100394  0.000000  0.000000  0.000000"
      ]
     },
     "execution_count": 33,
     "metadata": {},
     "output_type": "execute_result"
    }
   ],
   "source": [
    "means"
   ]
  },
  {
   "cell_type": "code",
   "execution_count": null,
   "id": "accurate-skating",
   "metadata": {},
   "outputs": [],
   "source": [
    "import seaborn as sns\n",
    "import matplotlib.pyplot as plt\n",
    "\n",
    "\n",
    "for idi, init in enumerate(init_types):\n",
    "    for idf, fitness in enumerate(fitness_types):\n",
    "        \n",
    "        fig, ax = plt.subplots(figsize=(10, 4), ncols=2, nrows=1)\n",
    "        w = rd[(rd.fitness_type == fitness) & (rd.init_type==init)]\n",
    "        \n",
    "        counts = w.groupby(by=[\"batch_size\", \"mutation_rate\"])[\"solved_time\"].count().unstack()\n",
    "        means = w.groupby(by=[\"batch_size\", \"mutation_rate\"])[\"solved_time\"].mean().unstack()\n",
    "        means = (means * (counts > 115)).fillna(0)\n",
    "        \n",
    "        sns.heatmap(counts, annot=True, vmin=0, vmax=128, cmap=\"Blues\", ax=ax[0])\n",
    "        sns.heatmap(means, annot=True, vmin=0, vmax=1, cmap=\"Reds\", ax=ax[1])\n",
    "        plt.tight_layout(pad=0)\n",
    "        plt.savefig(f'report5/images/pilot_{init}_{fitness}.png', bbox_inches='tight')\n",
    "        plt.show()"
   ]
  },
  {
   "cell_type": "code",
   "execution_count": 19,
   "id": "constant-spouse",
   "metadata": {},
   "outputs": [
    {
     "data": {
      "application/vnd.jupyter.widget-view+json": {
       "model_id": "0d095ae6cf8b477583551cc9aaf49de7",
       "version_major": 2,
       "version_minor": 0
      },
      "text/plain": [
       "HBox(children=(IntProgress(value=0, max=1000), HTML(value='')))"
      ]
     },
     "metadata": {},
     "output_type": "display_data"
    }
   ],
   "source": [
    "from tqdm.notebook import tqdm\n",
    "import time\n",
    "from bagsolver.genetic import GeneticBagSolver\n",
    "\n",
    "\n",
    "records = []\n",
    "start = time.time()\n",
    "for i in tqdm(range(1000)):\n",
    "    pool = self.genetic_iteration(pool)\n",
    "    batch_stats = self.pool_fitness(pool)\n",
    "    solved = self.solved()\n",
    "    optscore = self.optscore\n",
    "    bc = len(batch_stats)\n",
    "    t = time.time() - start\n",
    "    records.extend(\n",
    "        list(zip([i]*bc, [t]*bc, [solved]*bc, [optscore]*bc, batch_stats))\n",
    "    )\n",
    "    if t > 10:\n",
    "        break"
   ]
  },
  {
   "cell_type": "code",
   "execution_count": 20,
   "id": "cloudy-behavior",
   "metadata": {},
   "outputs": [
    {
     "name": "stderr",
     "output_type": "stream",
     "text": [
      "\n",
      "\n",
      " 21%|██        | 207/1000 [00:21<00:33, 23.84it/s]\u001b[A\u001b[A"
     ]
    }
   ],
   "source": [
    "import pandas as pd\n",
    "\n",
    "df = pd.DataFrame(records, columns = [\"it\", \"time\", \"solved\", \"optscore\", \"res\"])\n",
    "df = df.set_index(\"time\")\n",
    "\n",
    "pf = df.groupby(by=\"time\").agg({\"res\": [\"min\", \"mean\", \"max\"]})\n",
    "pf.columns = [\"min\", \"mean\", \"max\"]\n",
    "pf[\"best\"] = np.maximum.accumulate(pf[\"max\"].values)"
   ]
  },
  {
   "cell_type": "code",
   "execution_count": 21,
   "id": "confident-excerpt",
   "metadata": {},
   "outputs": [
    {
     "data": {
      "image/png": "[encoded data removed]",
      "text/plain": [
       "<Figure size 864x432 with 1 Axes>"
      ]
     },
     "metadata": {
      "needs_background": "light"
     },
     "output_type": "display_data"
    }
   ],
   "source": [
    "import matplotlib.pyplot as plt\n",
    "\n",
    "fig, ax = plt.subplots(figsize=(12, 6))\n",
    "\n",
    "pf.plot(ax=ax)\n",
    "ax.set_xlabel(\"elapsed time\")\n",
    "ax.set_ylabel(\"relative bag value\")\n",
    "plt.tight_layout(pad=0)"
   ]
  },
  {
   "cell_type": "code",
   "execution_count": null,
   "id": "arctic-establishment",
   "metadata": {},
   "outputs": [],
   "source": []
  }
 ],
 "metadata": {
  "kernelspec": {
   "display_name": "Python 3 (ipykernel)",
   "language": "python",
   "name": "python3"
  },
  "language_info": {
   "codemirror_mode": {
    "name": "ipython",
    "version": 3
   },
   "file_extension": ".py",
   "mimetype": "text/x-python",
   "name": "python",
   "nbconvert_exporter": "python",
   "pygments_lexer": "ipython3",
   "version": "3.8.9"
  }
 },
 "nbformat": 4,
 "nbformat_minor": 5
}
