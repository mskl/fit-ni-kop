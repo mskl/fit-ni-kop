{
 "cells": [
  {
   "cell_type": "code",
   "execution_count": 8,
   "metadata": {},
   "outputs": [
    {
     "name": "stdout",
     "output_type": "stream",
     "text": [
      "4\n",
      "10\n"
     ]
    }
   ],
   "source": [
    "import numpy as np\n",
    "import tqdm\n",
    "import time\n",
    "import os\n",
    "import pandas as pd\n",
    "\n",
    "from concurrent.futures import ThreadPoolExecutor, as_completed\n",
    "\n",
    "from bagsolver.bag import Bag\n",
    "from bagsolver.utils import load_bag_data\n",
    "\n",
    "def solve_line(line, optimizations, size, itype):\n",
    "    bag = Bag.from_line(line)\n",
    "    start_time = time.perf_counter()\n",
    "    bag.solve(optimizations=optimizations, strict=True)\n",
    "    elapsed = time.perf_counter() - start_time\n",
    "    return bag.opcount, elapsed, optimizations, size, itype\n",
    "\n",
    "sizes = [4, 10, 15, 20, 22, 25] # 27, 30, 32, 35, 37\n",
    "results = []\n",
    "\n",
    "for size in sizes:\n",
    "    print(size)\n",
    "    for itype in [\"ZR\", \"NR\"]:\n",
    "        filepath = f\"./data/{itype}/{itype}{size}_inst.dat\"\n",
    "        with open(filepath) as x:\n",
    "            problems = x.readlines()\n",
    "        futures = []\n",
    "        with ThreadPoolExecutor(max_workers=20) as executor:\n",
    "            for optimizations in [set(), {\"residuals\"}]:\n",
    "                for line in problems:\n",
    "                    futures.append(\n",
    "                        executor.submit(solve_line, line, optimizations, size, itype)\n",
    "                    )\n",
    "                    \n",
    "            for future in as_completed(futures):\n",
    "                results.append(future.result())\n",
    "\n",
    "\n",
    "\n",
    "df = pd.DataFrame(results, columns=[\"opcount\", \"elapsed\", \"optimizations\", \"size\", \"itype\"])\n",
    "df.to_csv(\"results.csv\", index=False)"
   ]
  },
  {
   "cell_type": "code",
   "execution_count": null,
   "metadata": {},
   "outputs": [],
   "source": []
  }
 ],
 "metadata": {
  "kernelspec": {
   "display_name": "Python 3",
   "language": "python",
   "name": "python3"
  },
  "language_info": {
   "codemirror_mode": {
    "name": "ipython",
    "version": 3
   },
   "file_extension": ".py",
   "mimetype": "text/x-python",
   "name": "python",
   "nbconvert_exporter": "python",
   "pygments_lexer": "ipython3",
   "version": "3.8.2"
  }
 },
 "nbformat": 4,
 "nbformat_minor": 1
}
