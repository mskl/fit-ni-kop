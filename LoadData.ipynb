{
 "cells": [
  {
   "cell_type": "markdown",
   "metadata": {},
   "source": [
    "Instance problému jsou popsány textovými soubory. Každý soubor má jméno XXn_inst.dat, kde n je velikost instance a XX několik znaků charakterizujících sadu. Každý řádek popisuje jednu instanci. Skládá se z čísel a oddělujících mezer. Každá instance je identifikována v rámci sady jedinečným číslem (ID)."
   ]
  },
  {
   "cell_type": "code",
   "execution_count": 6,
   "metadata": {},
   "outputs": [
    {
     "name": "stdout",
     "output_type": "stream",
     "text": [
      "-1 10 279 1542 36 3 43 1129 202 94 149 2084 28 646 54 737 147 300 151 605 16 1420 214 1142\r\n",
      "-2 10 113 3 226 2376 155 2443 142 73 23 70 194 1367 129 1649 118 1826 50 1214 153 223 101 1357\r\n",
      "-3 10 1241 3850 200 1755 127 741 173 80 165 2339 130 834 33 75 213 1676 43 1428 137 875 48 1503\r\n",
      "-4 10 844 12811 160 1975 42 2341 15 2081 208 174 89 733 164 1851 41 2193 133 586 50 1686 86 744\r\n",
      "-5 10 891 18854 138 2358 158 2384 239 533 147 2155 134 2081 50 538 238 1067 148 167 87 178 68 1623\r\n",
      "-6 10 740 725 177 1751 62 215 241 1193 152 1857 114 1954 188 1727 77 1769 204 115 112 1858 38 345\r\n",
      "-7 10 809 12650 174 1950 117 2167 181 1346 83 495 155 875 227 789 44 1920 27 824 35 1178 143 761\r\n",
      "-8 10 626 20408 205 1850 26 2373 167 118 81 2453 95 1988 55 250 161 979 66 2331 126 782 232 2316\r\n",
      "-9 10 185 1155 110 1680 160 2359 242 518 51 1437 201 1923 194 1826 17 2098 57 1543 121 254 194 1931\r\n",
      "-10 10 942 5044 222 1931 227 240 217 1597 103 1382 46 650 103 401 157 405 189 670 96 2217 198 1990\r\n"
     ]
    }
   ],
   "source": [
    "!head data/NR/NR10_inst.dat"
   ]
  },
  {
   "cell_type": "code",
   "execution_count": 7,
   "metadata": {},
   "outputs": [
    {
     "name": "stdout",
     "output_type": "stream",
     "text": [
      "1 10 5370 0 1 0 1 0 1 0 0 1 0 \r\n",
      "2 10 1357 0 0 0 0 0 0 0 0 0 1 \r\n",
      "3 10 11231 1 1 1 1 1 0 1 1 1 1 \r\n",
      "4 10 14190 1 1 1 0 1 1 1 1 1 1 \r\n",
      "5 10 11668 1 1 0 1 1 0 1 0 0 1 \r\n",
      "6 10 9749 1 1 0 1 1 0 1 0 1 1 \r\n",
      "7 10 10641 1 1 1 1 0 0 1 1 1 1 \r\n",
      "8 10 12243 0 1 0 1 1 0 0 1 1 1 \r\n",
      "9 10 5321 1 0 0 0 0 0 1 1 0 0 \r\n",
      "10 10 9767 1 0 1 1 1 0 0 0 1 1 \r\n"
     ]
    }
   ],
   "source": [
    "!head data/NR/NK10_sol.dat"
   ]
  },
  {
   "cell_type": "code",
   "execution_count": 8,
   "metadata": {},
   "outputs": [],
   "source": [
    "instance = \"data/NR/NR10_inst.dat\"\n",
    "solution = \"data/NR/NK10_sol.dat\""
   ]
  },
  {
   "cell_type": "code",
   "execution_count": 12,
   "metadata": {},
   "outputs": [],
   "source": [
    "with open(instance , 'r') as f:\n",
    "    lines = f.readlines()"
   ]
  },
  {
   "cell_type": "code",
   "execution_count": 13,
   "metadata": {},
   "outputs": [],
   "source": [
    "from bag import Bag"
   ]
  },
  {
   "cell_type": "code",
   "execution_count": 16,
   "metadata": {},
   "outputs": [],
   "source": [
    "line = lines[0]"
   ]
  },
  {
   "cell_type": "code",
   "execution_count": 17,
   "metadata": {},
   "outputs": [],
   "source": [
    "bag = Bag.from_line(line)"
   ]
  },
  {
   "cell_type": "code",
   "execution_count": 66,
   "metadata": {},
   "outputs": [
    {
     "data": {
      "text/plain": [
       "19"
      ]
     },
     "execution_count": 66,
     "metadata": {},
     "output_type": "execute_result"
    }
   ],
   "source": [
    "len(bag.items)"
   ]
  },
  {
   "cell_type": "code",
   "execution_count": 65,
   "metadata": {},
   "outputs": [
    {
     "data": {
      "text/plain": [
       "279"
      ]
     },
     "execution_count": 65,
     "metadata": {},
     "output_type": "execute_result"
    }
   ],
   "source": [
    "bag.capacity"
   ]
  },
  {
   "cell_type": "code",
   "execution_count": 64,
   "metadata": {},
   "outputs": [
    {
     "data": {
      "text/plain": [
       "Bag(capacity=279, mincost=1542, items=[Item(weight=36, cost=3), Item(weight=3, cost=43), Item(weight=43, cost=1129), Item(weight=1129, cost=202), Item(weight=202, cost=94), Item(weight=94, cost=149), Item(weight=149, cost=2084), Item(weight=2084, cost=28), Item(weight=28, cost=646), Item(weight=646, cost=54), Item(weight=54, cost=737), Item(weight=737, cost=147), Item(weight=147, cost=300), Item(weight=300, cost=151), Item(weight=151, cost=605), Item(weight=605, cost=16), Item(weight=16, cost=1420), Item(weight=1420, cost=214), Item(weight=214, cost=1142)])"
      ]
     },
     "execution_count": 64,
     "metadata": {},
     "output_type": "execute_result"
    }
   ],
   "source": [
    "bag"
   ]
  },
  {
   "cell_type": "code",
   "execution_count": null,
   "metadata": {},
   "outputs": [],
   "source": []
  }
 ],
 "metadata": {
  "kernelspec": {
   "display_name": "Python 3",
   "language": "python",
   "name": "python3"
  },
  "language_info": {
   "codemirror_mode": {
    "name": "ipython",
    "version": 3
   },
   "file_extension": ".py",
   "mimetype": "text/x-python",
   "name": "python",
   "nbconvert_exporter": "python",
   "pygments_lexer": "ipython3",
   "version": "3.8.7"
  }
 },
 "nbformat": 4,
 "nbformat_minor": 4
}
