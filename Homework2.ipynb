{
 "cells": [
  {
   "cell_type": "code",
   "execution_count": 1,
   "id": "danish-experiment",
   "metadata": {},
   "outputs": [],
   "source": [
    "%load_ext autoreload\n",
    "%autoreload 2"
   ]
  },
  {
   "cell_type": "code",
   "execution_count": 2,
   "id": "excessive-turner",
   "metadata": {},
   "outputs": [],
   "source": [
    "from bagsolver.bag import Bag\n",
    "from bagsolver.utils import load_bag_data, parse_solution\n",
    "from concurrent.futures import ThreadPoolExecutor, ProcessPoolExecutor, as_completed\n",
    "\n",
    "from experiment2 import run"
   ]
  },
  {
   "cell_type": "code",
   "execution_count": 3,
   "id": "written-subscription",
   "metadata": {},
   "outputs": [],
   "source": [
    "runs = {\n",
    "    \"branch_bound\": (\"solve_branch_bound\", {}),\n",
    "    \"greedy_simple\": (\"solve_greedy\", {\"redux\": False}),\n",
    "    \"greedy_redux\": (\"solve_greedy\", {\"redux\": True}),\n",
    "    \"dynamic_cost\": (\"solve_dynamic_cost\", {}),\n",
    "    \"dynamic_weight\": (\"solve_dynamic_weight\", {}),\n",
    "    \"solve_ftapas_03\": (\"solve_ftapas\", {\"epsilon\": 0.3}),\n",
    "    \"solve_ftapas_05\": (\"solve_ftapas\", {\"epsilon\": 0.5}),\n",
    "    \"solve_ftapas_07\": (\"solve_ftapas\", {\"epsilon\": 0.7}),\n",
    "}"
   ]
  },
  {
   "cell_type": "code",
   "execution_count": 4,
   "id": "different-chamber",
   "metadata": {},
   "outputs": [
    {
     "name": "stderr",
     "output_type": "stream",
     "text": [
      "100%|██████████| 432/432 [02:24<00:00,  2.98it/s]"
     ]
    },
    {
     "name": "stdout",
     "output_type": "stream",
     "text": [
      "Saving results into results2.csv\n"
     ]
    },
    {
     "name": "stderr",
     "output_type": "stream",
     "text": [
      "\n"
     ]
    }
   ],
   "source": [
    "df = run(runs, 5, ThreadPoolExecutor, 3)"
   ]
  },
  {
   "cell_type": "code",
   "execution_count": null,
   "id": "secure-sleep",
   "metadata": {},
   "outputs": [],
   "source": []
  }
 ],
 "metadata": {
  "kernelspec": {
   "display_name": "Python 3",
   "language": "python",
   "name": "python3"
  },
  "language_info": {
   "codemirror_mode": {
    "name": "ipython",
    "version": 3
   },
   "file_extension": ".py",
   "mimetype": "text/x-python",
   "name": "python",
   "nbconvert_exporter": "python",
   "pygments_lexer": "ipython3",
   "version": "3.8.2"
  }
 },
 "nbformat": 4,
 "nbformat_minor": 5
}
