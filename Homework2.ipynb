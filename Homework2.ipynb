{
 "cells": [
  {
   "cell_type": "code",
   "execution_count": 1,
   "id": "excessive-turner",
   "metadata": {},
   "outputs": [],
   "source": [
    "from bagsolver.bag import Bag\n",
    "from bagsolver.utils import load_bag_data"
   ]
  },
  {
   "cell_type": "code",
   "execution_count": 2,
   "id": "modern-unemployment",
   "metadata": {},
   "outputs": [],
   "source": [
    "data = load_bag_data(\"data/NK/NK10_inst.dat\", \"data/NK/NK10_sol.dat\")"
   ]
  },
  {
   "cell_type": "code",
   "execution_count": 3,
   "id": "ultimate-netherlands",
   "metadata": {},
   "outputs": [],
   "source": [
    "bagdef, bagsol = data[30]"
   ]
  },
  {
   "cell_type": "code",
   "execution_count": 4,
   "id": "proprietary-carolina",
   "metadata": {},
   "outputs": [],
   "source": [
    "bag = Bag.from_line(bagdef)"
   ]
  },
  {
   "cell_type": "code",
   "execution_count": 14,
   "id": "understanding-explorer",
   "metadata": {},
   "outputs": [],
   "source": [
    "%load_ext line_profiler"
   ]
  },
  {
   "cell_type": "code",
   "execution_count": 24,
   "id": "human-advertiser",
   "metadata": {},
   "outputs": [],
   "source": [
    "%lprun -f bag._solve_dynamic bag.solve_dynamic()"
   ]
  },
  {
   "cell_type": "code",
   "execution_count": 26,
   "id": "controversial-priority",
   "metadata": {},
   "outputs": [
    {
     "data": {
      "text/plain": [
       "(11, 11297)"
      ]
     },
     "execution_count": 26,
     "metadata": {},
     "output_type": "execute_result"
    }
   ],
   "source": [
    "bag.memofield.shape"
   ]
  },
  {
   "cell_type": "code",
   "execution_count": null,
   "id": "presidential-journalist",
   "metadata": {},
   "outputs": [],
   "source": []
  }
 ],
 "metadata": {
  "kernelspec": {
   "display_name": "Python 3",
   "language": "python",
   "name": "python3"
  },
  "language_info": {
   "codemirror_mode": {
    "name": "ipython",
    "version": 3
   },
   "file_extension": ".py",
   "mimetype": "text/x-python",
   "name": "python",
   "nbconvert_exporter": "python",
   "pygments_lexer": "ipython3",
   "version": "3.8.2"
  }
 },
 "nbformat": 4,
 "nbformat_minor": 5
}
