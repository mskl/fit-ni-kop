{
 "cells": [
  {
   "cell_type": "code",
   "execution_count": 1,
   "id": "requested-running",
   "metadata": {},
   "outputs": [],
   "source": [
    "from bagsolver.bag import Bag\n",
    "from bagsolver.utils import load_bag_data"
   ]
  },
  {
   "cell_type": "code",
   "execution_count": 2,
   "id": "latter-forest",
   "metadata": {},
   "outputs": [],
   "source": [
    "data = load_bag_data(\"data/NK/NK10_inst.dat\", \"data/NK/NK10_sol.dat\")"
   ]
  },
  {
   "cell_type": "code",
   "execution_count": 3,
   "id": "established-return",
   "metadata": {},
   "outputs": [],
   "source": [
    "bagdef, bagsol = data[0]"
   ]
  },
  {
   "cell_type": "code",
   "execution_count": 4,
   "id": "muslim-florist",
   "metadata": {},
   "outputs": [],
   "source": [
    "bag = Bag.from_line(bagdef)"
   ]
  },
  {
   "cell_type": "code",
   "execution_count": 8,
   "id": "historic-maine",
   "metadata": {},
   "outputs": [],
   "source": [
    "items = sorted(bag.items, key=lambda x: x.cw_ratio, reverse=True)"
   ]
  },
  {
   "cell_type": "code",
   "execution_count": 14,
   "id": "integrated-symphony",
   "metadata": {},
   "outputs": [
    {
     "data": {
      "text/plain": [
       "Item(weight=149, cost=2084)"
      ]
     },
     "execution_count": 14,
     "metadata": {},
     "output_type": "execute_result"
    }
   ],
   "source": [
    "max(items, key=lambda x: x.cost)"
   ]
  },
  {
   "cell_type": "code",
   "execution_count": 15,
   "id": "hairy-packing",
   "metadata": {},
   "outputs": [],
   "source": [
    "import numpy as np"
   ]
  },
  {
   "cell_type": "code",
   "execution_count": 17,
   "id": "female-luther",
   "metadata": {},
   "outputs": [
    {
     "data": {
      "text/plain": [
       "array([[1., 0., 0., 0.],\n",
       "       [0., 1., 0., 0.],\n",
       "       [0., 0., 1., 0.]])"
      ]
     },
     "execution_count": 17,
     "metadata": {},
     "output_type": "execute_result"
    }
   ],
   "source": [
    "np.eye(3, 4)"
   ]
  },
  {
   "cell_type": "code",
   "execution_count": null,
   "id": "initial-eight",
   "metadata": {},
   "outputs": [],
   "source": []
  }
 ],
 "metadata": {
  "kernelspec": {
   "display_name": "Python 3",
   "language": "python",
   "name": "python3"
  },
  "language_info": {
   "codemirror_mode": {
    "name": "ipython",
    "version": 3
   },
   "file_extension": ".py",
   "mimetype": "text/x-python",
   "name": "python",
   "nbconvert_exporter": "python",
   "pygments_lexer": "ipython3",
   "version": "3.8.2"
  }
 },
 "nbformat": 4,
 "nbformat_minor": 5
}
