{
 "cells": [
  {
   "cell_type": "code",
   "execution_count": 1,
   "id": "alpine-composite",
   "metadata": {},
   "outputs": [],
   "source": [
    "from bagsolver.bag import Bag\n",
    "from bagsolver.utils import load_bag_data"
   ]
  },
  {
   "cell_type": "code",
   "execution_count": 2,
   "id": "rapid-pioneer",
   "metadata": {},
   "outputs": [],
   "source": [
    "data = load_bag_data(\"data/NK/NK10_inst.dat\", \"data/NK/NK10_sol.dat\")"
   ]
  },
  {
   "cell_type": "code",
   "execution_count": 3,
   "id": "comparative-block",
   "metadata": {},
   "outputs": [],
   "source": [
    "bagdef, bagsol = data[0]"
   ]
  },
  {
   "cell_type": "code",
   "execution_count": 4,
   "id": "floppy-copying",
   "metadata": {},
   "outputs": [],
   "source": [
    "bag = Bag.from_line(bagdef)"
   ]
  },
  {
   "cell_type": "code",
   "execution_count": 8,
   "id": "intellectual-tension",
   "metadata": {},
   "outputs": [],
   "source": [
    "items = sorted(bag.items, key=lambda x: x.cw_ratio, reverse=True)"
   ]
  },
  {
   "cell_type": "code",
   "execution_count": 14,
   "id": "ranging-giant",
   "metadata": {},
   "outputs": [
    {
     "data": {
      "text/plain": [
       "Item(weight=149, cost=2084)"
      ]
     },
     "execution_count": 14,
     "metadata": {},
     "output_type": "execute_result"
    }
   ],
   "source": [
    "max(items, key=lambda x: x.cost)"
   ]
  },
  {
   "cell_type": "code",
   "execution_count": 15,
   "id": "constitutional-register",
   "metadata": {},
   "outputs": [],
   "source": [
    "import numpy as np"
   ]
  },
  {
   "cell_type": "code",
   "execution_count": 19,
   "id": "recreational-framework",
   "metadata": {},
   "outputs": [
    {
     "data": {
      "text/plain": [
       "array([Item(weight=16, cost=1420), Item(weight=43, cost=1129),\n",
       "       Item(weight=28, cost=646), Item(weight=149, cost=2084),\n",
       "       Item(weight=54, cost=737), Item(weight=214, cost=1142),\n",
       "       Item(weight=151, cost=605), Item(weight=147, cost=300),\n",
       "       Item(weight=202, cost=94), Item(weight=36, cost=3)], dtype=object)"
      ]
     },
     "execution_count": 19,
     "metadata": {},
     "output_type": "execute_result"
    }
   ],
   "source": [
    "np.array(items)"
   ]
  },
  {
   "cell_type": "code",
   "execution_count": 28,
   "id": "romantic-medicaid",
   "metadata": {},
   "outputs": [],
   "source": [
    "val = np.nan"
   ]
  },
  {
   "cell_type": "code",
   "execution_count": 29,
   "id": "italian-discrimination",
   "metadata": {},
   "outputs": [],
   "source": [
    "if val == np.nan:\n",
    "    print(\"fpp\")"
   ]
  },
  {
   "cell_type": "code",
   "execution_count": null,
   "id": "established-killing",
   "metadata": {},
   "outputs": [],
   "source": []
  }
 ],
 "metadata": {
  "kernelspec": {
   "display_name": "Python 3",
   "language": "python",
   "name": "python3"
  },
  "language_info": {
   "codemirror_mode": {
    "name": "ipython",
    "version": 3
   },
   "file_extension": ".py",
   "mimetype": "text/x-python",
   "name": "python",
   "nbconvert_exporter": "python",
   "pygments_lexer": "ipython3",
   "version": "3.8.2"
  }
 },
 "nbformat": 4,
 "nbformat_minor": 5
}
