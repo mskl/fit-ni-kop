{
 "cells": [
  {
   "cell_type": "code",
   "execution_count": 1,
   "id": "worth-international",
   "metadata": {},
   "outputs": [],
   "source": [
    "%load_ext autoreload\n",
    "%autoreload 2"
   ]
  },
  {
   "cell_type": "code",
   "execution_count": 2,
   "id": "gentle-wildlife",
   "metadata": {},
   "outputs": [],
   "source": [
    "import numpy as np\n",
    "from tqdm.notebook import tqdm"
   ]
  },
  {
   "cell_type": "code",
   "execution_count": 3,
   "id": "common-musical",
   "metadata": {},
   "outputs": [],
   "source": [
    "problem_path = \"data/wuf-N1/wuf20-78-N1/wuf20-0305.mwcnf\"\n",
    "soltion_path = \"data/wuf-N1/wuf20-78-N-opt.dat\""
   ]
  },
  {
   "cell_type": "code",
   "execution_count": 4,
   "id": "asian-buddy",
   "metadata": {},
   "outputs": [],
   "source": [
    "from satsolver.genetic import GeneticSolver\n",
    "from satsolver.utils import load_solutions\n",
    "\n",
    "solutions = load_solutions(soltion_path)"
   ]
  },
  {
   "cell_type": "code",
   "execution_count": 22,
   "id": "crucial-aquarium",
   "metadata": {},
   "outputs": [],
   "source": [
    "import glob\n",
    "\n",
    "selected = glob.glob(\"data/wuf-N1/wuf20-78-N1/*\")[:20]\n",
    "\n",
    "problems = []\n",
    "for batch_size in [5, 10, 20, 40, 80, 160, 320, 640, 1280]:\n",
    "    for mutation_rate in [0, 0.01, 0.02, 0.04, 0.08, 0.16, 0.32]:\n",
    "        for init_type in [\"allfalse\", \"uniform\"]:\n",
    "            for fitness_type in [\"sum_or_nothing\", \"correct_count\"]:\n",
    "                for problem_path in selected:\n",
    "                    problems.append([batch_size,mutation_rate,problem_path,init_type,fitness_type])"
   ]
  },
  {
   "cell_type": "code",
   "execution_count": 63,
   "id": "operational-defense",
   "metadata": {},
   "outputs": [
    {
     "data": {
      "application/vnd.jupyter.widget-view+json": {
       "model_id": "076099b633f44b449f3f19aa2fec10bd",
       "version_major": 2,
       "version_minor": 0
      },
      "text/plain": [
       "HBox(children=(IntProgress(value=0, max=1260), HTML(value='')))"
      ]
     },
     "metadata": {},
     "output_type": "display_data"
    },
    {
     "name": "stdout",
     "output_type": "stream",
     "text": [
      "\n"
     ]
    }
   ],
   "source": [
    "results = []\n",
    "for batch_size, mutation_rate, problem_path in tqdm(problems):\n",
    "    self = GeneticSolver.from_file(\n",
    "        problem_path, batch_size=batch_size, mutation_rate=mutation_rate, \n",
    "        fitness_type=\"correct_count\", init_type=\"uniform\"\n",
    "    )\n",
    "    pool = self.new_pool()\n",
    "    start = time.time()\n",
    "    solved_time = None\n",
    "    solved = False\n",
    "    while (time.time() - start) < 1:\n",
    "        pool = self.genetic_iteration(pool)\n",
    "        solved = self.solved()\n",
    "        if solved:\n",
    "            solved_time = time.time() - start\n",
    "            break\n",
    "    results.append([batch_size, mutation_rate, solved_time, solved])"
   ]
  },
  {
   "cell_type": "code",
   "execution_count": 65,
   "id": "controlling-beverage",
   "metadata": {},
   "outputs": [],
   "source": [
    "rd = pd.DataFrame.from_records(results, columns=\"batch_size,mutation_rate,solved_time,solved\".split(\",\") )"
   ]
  },
  {
   "cell_type": "code",
   "execution_count": 70,
   "id": "constitutional-commitment",
   "metadata": {},
   "outputs": [
    {
     "data": {
      "text/html": [
       "<div>\n",
       "<style scoped>\n",
       "    .dataframe tbody tr th:only-of-type {\n",
       "        vertical-align: middle;\n",
       "    }\n",
       "\n",
       "    .dataframe tbody tr th {\n",
       "        vertical-align: top;\n",
       "    }\n",
       "\n",
       "    .dataframe thead th {\n",
       "        text-align: right;\n",
       "    }\n",
       "</style>\n",
       "<table border=\"1\" class=\"dataframe\">\n",
       "  <thead>\n",
       "    <tr style=\"text-align: right;\">\n",
       "      <th></th>\n",
       "      <th>batch_size</th>\n",
       "      <th>mutation_rate</th>\n",
       "      <th>solved_time</th>\n",
       "      <th>solved</th>\n",
       "    </tr>\n",
       "  </thead>\n",
       "  <tbody>\n",
       "    <tr>\n",
       "      <th>0</th>\n",
       "      <td>5</td>\n",
       "      <td>0.00</td>\n",
       "      <td>NaN</td>\n",
       "      <td>False</td>\n",
       "    </tr>\n",
       "    <tr>\n",
       "      <th>1</th>\n",
       "      <td>5</td>\n",
       "      <td>0.00</td>\n",
       "      <td>NaN</td>\n",
       "      <td>False</td>\n",
       "    </tr>\n",
       "    <tr>\n",
       "      <th>2</th>\n",
       "      <td>5</td>\n",
       "      <td>0.00</td>\n",
       "      <td>NaN</td>\n",
       "      <td>False</td>\n",
       "    </tr>\n",
       "    <tr>\n",
       "      <th>3</th>\n",
       "      <td>5</td>\n",
       "      <td>0.00</td>\n",
       "      <td>NaN</td>\n",
       "      <td>False</td>\n",
       "    </tr>\n",
       "    <tr>\n",
       "      <th>4</th>\n",
       "      <td>5</td>\n",
       "      <td>0.00</td>\n",
       "      <td>NaN</td>\n",
       "      <td>False</td>\n",
       "    </tr>\n",
       "    <tr>\n",
       "      <th>...</th>\n",
       "      <td>...</td>\n",
       "      <td>...</td>\n",
       "      <td>...</td>\n",
       "      <td>...</td>\n",
       "    </tr>\n",
       "    <tr>\n",
       "      <th>1255</th>\n",
       "      <td>1280</td>\n",
       "      <td>0.32</td>\n",
       "      <td>0.379793</td>\n",
       "      <td>True</td>\n",
       "    </tr>\n",
       "    <tr>\n",
       "      <th>1256</th>\n",
       "      <td>1280</td>\n",
       "      <td>0.32</td>\n",
       "      <td>0.386893</td>\n",
       "      <td>True</td>\n",
       "    </tr>\n",
       "    <tr>\n",
       "      <th>1257</th>\n",
       "      <td>1280</td>\n",
       "      <td>0.32</td>\n",
       "      <td>0.376441</td>\n",
       "      <td>True</td>\n",
       "    </tr>\n",
       "    <tr>\n",
       "      <th>1258</th>\n",
       "      <td>1280</td>\n",
       "      <td>0.32</td>\n",
       "      <td>NaN</td>\n",
       "      <td>False</td>\n",
       "    </tr>\n",
       "    <tr>\n",
       "      <th>1259</th>\n",
       "      <td>1280</td>\n",
       "      <td>0.32</td>\n",
       "      <td>0.372759</td>\n",
       "      <td>True</td>\n",
       "    </tr>\n",
       "  </tbody>\n",
       "</table>\n",
       "<p>1260 rows × 4 columns</p>\n",
       "</div>"
      ],
      "text/plain": [
       "      batch_size  mutation_rate  solved_time  solved\n",
       "0              5           0.00          NaN   False\n",
       "1              5           0.00          NaN   False\n",
       "2              5           0.00          NaN   False\n",
       "3              5           0.00          NaN   False\n",
       "4              5           0.00          NaN   False\n",
       "...          ...            ...          ...     ...\n",
       "1255        1280           0.32     0.379793    True\n",
       "1256        1280           0.32     0.386893    True\n",
       "1257        1280           0.32     0.376441    True\n",
       "1258        1280           0.32          NaN   False\n",
       "1259        1280           0.32     0.372759    True\n",
       "\n",
       "[1260 rows x 4 columns]"
      ]
     },
     "execution_count": 70,
     "metadata": {},
     "output_type": "execute_result"
    }
   ],
   "source": [
    "rd"
   ]
  },
  {
   "cell_type": "code",
   "execution_count": 81,
   "id": "common-mobile",
   "metadata": {},
   "outputs": [],
   "source": [
    "counts = rd.groupby(by=[\"batch_size\", \"mutation_rate\"])[\"solved_time\"].count().unstack()\n",
    "means = rd.groupby(by=[\"batch_size\", \"mutation_rate\"])[\"solved_time\"].mean().unstack()\n",
    "means = (means * (counts == 20)).fillna(0).replace(0, np.nan)"
   ]
  },
  {
   "cell_type": "code",
   "execution_count": 83,
   "id": "accomplished-motel",
   "metadata": {},
   "outputs": [
    {
     "data": {
      "image/png": "[encoded data removed]",
      "text/plain": [
       "<Figure size 864x288 with 4 Axes>"
      ]
     },
     "metadata": {
      "needs_background": "light"
     },
     "output_type": "display_data"
    }
   ],
   "source": [
    "import seaborn as sns\n",
    "\n",
    "fig, ax = plt.subplots(figsize=(12, 4), ncols=2)\n",
    "sns.heatmap(counts, annot=True, vmin=0, vmax=20, cmap=\"Blues\", ax=ax[0])\n",
    "sns.heatmap(means, annot=True, vmin=0, vmax=1, cmap=\"Reds\", ax=ax[1])\n",
    "plt.tight_layout(pad=0)\n",
    "plt.savefig('report5/images/pilot_counts_means.png', bbox_inches='tight')\n",
    "plt.show()"
   ]
  },
  {
   "cell_type": "code",
   "execution_count": 19,
   "id": "stone-turning",
   "metadata": {},
   "outputs": [
    {
     "data": {
      "application/vnd.jupyter.widget-view+json": {
       "model_id": "0d095ae6cf8b477583551cc9aaf49de7",
       "version_major": 2,
       "version_minor": 0
      },
      "text/plain": [
       "HBox(children=(IntProgress(value=0, max=1000), HTML(value='')))"
      ]
     },
     "metadata": {},
     "output_type": "display_data"
    }
   ],
   "source": [
    "from tqdm.notebook import tqdm\n",
    "import time\n",
    "from bagsolver.genetic import GeneticBagSolver\n",
    "\n",
    "\n",
    "records = []\n",
    "start = time.time()\n",
    "for i in tqdm(range(1000)):\n",
    "    pool = self.genetic_iteration(pool)\n",
    "    batch_stats = self.pool_fitness(pool)\n",
    "    solved = self.solved()\n",
    "    optscore = self.optscore\n",
    "    bc = len(batch_stats)\n",
    "    t = time.time() - start\n",
    "    records.extend(\n",
    "        list(zip([i]*bc, [t]*bc, [solved]*bc, [optscore]*bc, batch_stats))\n",
    "    )\n",
    "    if t > 10:\n",
    "        break"
   ]
  },
  {
   "cell_type": "code",
   "execution_count": 20,
   "id": "reserved-edward",
   "metadata": {},
   "outputs": [
    {
     "name": "stderr",
     "output_type": "stream",
     "text": [
      "\n",
      "\n",
      " 21%|██        | 207/1000 [00:21<00:33, 23.84it/s]\u001b[A\u001b[A"
     ]
    }
   ],
   "source": [
    "import pandas as pd\n",
    "\n",
    "df = pd.DataFrame(records, columns = [\"it\", \"time\", \"solved\", \"optscore\", \"res\"])\n",
    "df = df.set_index(\"time\")\n",
    "\n",
    "pf = df.groupby(by=\"time\").agg({\"res\": [\"min\", \"mean\", \"max\"]})\n",
    "pf.columns = [\"min\", \"mean\", \"max\"]\n",
    "pf[\"best\"] = np.maximum.accumulate(pf[\"max\"].values)"
   ]
  },
  {
   "cell_type": "code",
   "execution_count": 21,
   "id": "declared-auction",
   "metadata": {},
   "outputs": [
    {
     "data": {
      "image/png": "[encoded data removed]",
      "text/plain": [
       "<Figure size 864x432 with 1 Axes>"
      ]
     },
     "metadata": {
      "needs_background": "light"
     },
     "output_type": "display_data"
    }
   ],
   "source": [
    "import matplotlib.pyplot as plt\n",
    "\n",
    "fig, ax = plt.subplots(figsize=(12, 6))\n",
    "\n",
    "pf.plot(ax=ax)\n",
    "ax.set_xlabel(\"elapsed time\")\n",
    "ax.set_ylabel(\"relative bag value\")\n",
    "plt.tight_layout(pad=0)"
   ]
  },
  {
   "cell_type": "code",
   "execution_count": null,
   "id": "included-impression",
   "metadata": {},
   "outputs": [],
   "source": []
  }
 ],
 "metadata": {
  "kernelspec": {
   "display_name": "Python 3 (ipykernel)",
   "language": "python",
   "name": "python3"
  },
  "language_info": {
   "codemirror_mode": {
    "name": "ipython",
    "version": 3
   },
   "file_extension": ".py",
   "mimetype": "text/x-python",
   "name": "python",
   "nbconvert_exporter": "python",
   "pygments_lexer": "ipython3",
   "version": "3.8.9"
  }
 },
 "nbformat": 4,
 "nbformat_minor": 5
}
